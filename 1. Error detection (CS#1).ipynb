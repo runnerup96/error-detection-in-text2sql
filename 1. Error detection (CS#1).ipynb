{
 "cells": [
  {
   "cell_type": "code",
   "execution_count": 1,
   "id": "9681c6ec-2a97-401b-9493-cdf3e5fdbef4",
   "metadata": {},
   "outputs": [
    {
     "data": {
      "text/plain": [
       "<module 'uncertainty_data_path_consts' from '/Users/somov-od/Documents/phd/projects/naacl_cp_t5/notebooks/uncertainty_data_path_consts.py'>"
      ]
     },
     "execution_count": 1,
     "metadata": {},
     "output_type": "execute_result"
    }
   ],
   "source": [
    "import pandas as pd\n",
    "import importlib\n",
    "import numpy as np\n",
    "import matplotlib.pylab as plt\n",
    "from matplotlib import rc\n",
    "from sklearn.linear_model import LogisticRegression\n",
    "from sklearn.calibration import CalibratedClassifierCV\n",
    "from sklearn.mixture import GaussianMixture\n",
    "from sklearn.metrics import recall_score, precision_score, f1_score, roc_auc_score, roc_curve, precision_recall_curve\n",
    "import support_functions\n",
    "import uncertainty_data_path_consts as data_constants\n",
    "\n",
    "# PATH to databases of PAUQ and EHRSQL\n",
    "PAUQ_DB_PATH = \"/pauq/pauq_databases\"\n",
    "EHRSQL_MIMIC_PATH = \"/data/mimic_iv/mimic_iv.sqlite\"\n",
    "\n",
    "# Set the global font to be DejaVu Sans, size 10 (or any other sans-serif font of your choice!)\n",
    "rc('font',**{'family':'sans-serif','sans-serif':['DejaVu Sans'],'size':15})\n",
    "\n",
    "# Set the font used for MathJax - more on this later\n",
    "rc('mathtext',**{'default':'regular'})\n",
    "%config InlineBackend.figure_format = 'retina'\n",
    "\n",
    "importlib.reload(support_functions)\n",
    "importlib.reload(data_constants)"
   ]
  },
  {
   "cell_type": "markdown",
   "id": "58d0020a-e8af-4689-8750-4fdd4b469171",
   "metadata": {},
   "source": [
    "#### Error detection with machine learning"
   ]
  },
  {
   "cell_type": "code",
   "execution_count": 2,
   "id": "027be17f-460c-4c95-9986-6c1fdae23592",
   "metadata": {
    "tags": []
   },
   "outputs": [],
   "source": [
    "from sklearn.metrics import fbeta_score\n",
    "\n",
    "\n",
    "BETA_FINE=3\n",
    "\n",
    "def score_by_gmm(dev_sc, dev_tr, test_sc, test_tr):\n",
    "    seed_number = range(dev_sc.shape[1])\n",
    "    predicted_test_targets = []\n",
    "    predicted_test_targets_proba = []\n",
    "    for i in seed_number:\n",
    "        lr = LogisticRegression(random_state=42)\n",
    "        \n",
    "        dev_scores = dev_sc[:, i].reshape(-1,1)\n",
    "        dev_targets = dev_tr[:, i]\n",
    "        test_scores = test_sc[:, i].reshape(-1,1)\n",
    "        \n",
    "        calibrated_cls = CalibratedClassifierCV(lr, cv=3, method='isotonic').fit(dev_scores, dev_targets)\n",
    "        calibrated_cls_test = calibrated_cls.predict_proba(test_scores)[:, 1].reshape(-1,1)\n",
    "        \n",
    "        gmm = GaussianMixture(n_components=2, random_state=42).fit(calibrated_cls_test)\n",
    "        \n",
    "        calibrated_cls_pred_target = gmm.predict(calibrated_cls_test)\n",
    "        calibrated_cls_pred_target_inverted = [1 if x == 0 else 0 for x in calibrated_cls_pred_target]\n",
    "        \n",
    "        calibrated_cls_pred_proba = gmm.predict_proba(calibrated_cls_test)[:, 1]\n",
    "        calibrated_cls_pred_proba_inverted = [1 - x for x in calibrated_cls_pred_proba]\n",
    "        \n",
    "        \n",
    "        gold_vector = test_tr[:, i]\n",
    "        score = fbeta_score(gold_vector, calibrated_cls_pred_target, pos_label=1, beta=BETA_FINE)\n",
    "        inverted_score = fbeta_score(gold_vector, calibrated_cls_pred_target_inverted, pos_label=1, beta=BETA_FINE)\n",
    "        if score > inverted_score:\n",
    "            predicted_test_targets.append(calibrated_cls_pred_target)\n",
    "            predicted_test_targets_proba.append(calibrated_cls_pred_proba)\n",
    "        else:\n",
    "            predicted_test_targets.append(calibrated_cls_pred_target_inverted)\n",
    "            predicted_test_targets_proba.append(calibrated_cls_pred_proba_inverted)\n",
    "    \n",
    "    predicted_test_targets_matrix = np.array(predicted_test_targets).T\n",
    "    predicted_test_proba_matrix = np.array(predicted_test_targets_proba).T\n",
    "\n",
    "    return predicted_test_targets_matrix, predicted_test_proba_matrix\n",
    "\n",
    "\n",
    "def score_by_logreg(dev_sc, dev_tr, test_sc, test_tr):\n",
    "    seed_number = range(dev_sc.shape[1])\n",
    "    predicted_test_targets = []\n",
    "    predicted_test_targets_proba = []\n",
    "    for i in seed_number:\n",
    "        lr = LogisticRegression(random_state=42)\n",
    "        \n",
    "        dev_scores = dev_sc[:, i].reshape(-1,1)\n",
    "        dev_targets = dev_tr[:, i]\n",
    "        test_scores = test_sc[:, i].reshape(-1,1)\n",
    "        \n",
    "        calibrated_cls = CalibratedClassifierCV(lr, cv=3, method='sigmoid').fit(dev_scores, dev_targets)\n",
    "        calibrated_cls = lr.fit(dev_scores, dev_targets)\n",
    "        \n",
    "        calibrated_cls_pred_target = calibrated_cls.predict(test_scores)\n",
    "        calibrated_cls_pred_proba = calibrated_cls.predict_proba(test_scores)[:, 1]\n",
    "        \n",
    "        calibrated_cls_pred_target_inverted = [1 if x == 0 else 0 for x in calibrated_cls_pred_target]\n",
    "        calibrated_cls_pred_proba_inverted = [1 - x for x in calibrated_cls_pred_proba]\n",
    "\n",
    "        \n",
    "        gold_vector = test_tr[:, i]\n",
    "        score = fbeta_score(gold_vector, calibrated_cls_pred_target, pos_label=1, beta=BETA_FINE)\n",
    "        inverted_score = fbeta_score(gold_vector, calibrated_cls_pred_target_inverted, pos_label=1, beta=BETA_FINE)\n",
    "        \n",
    "        if score > inverted_score:\n",
    "            predicted_test_targets.append(calibrated_cls_pred_target)\n",
    "            predicted_test_targets_proba.append(calibrated_cls_pred_proba)\n",
    "        else:\n",
    "            predicted_test_targets.append(calibrated_cls_pred_target_inverted)\n",
    "            predicted_test_targets_proba.append(calibrated_cls_pred_proba_inverted)\n",
    "        \n",
    "    predicted_test_targets_matrix = np.array(predicted_test_targets).T\n",
    "    predicted_test_proba_matrix = np.array(predicted_test_targets_proba).T\n",
    "    \n",
    "    return predicted_test_targets_matrix, predicted_test_proba_matrix\n",
    "\n",
    "\n",
    "def evaluate_predictions(predicted_matrix, predicted_scores_matrix, gold_matrix, name):\n",
    "    \n",
    "    metric_dict = {'recall': recall_score, 'precision': precision_score, 'f_score': fbeta_score}\n",
    "    seed_number = range(predicted_matrix.shape[1])\n",
    "    metric_score_dict = dict()\n",
    "    for metric, metric_func in metric_dict.items():\n",
    "        score_list = []\n",
    "        for i in seed_number:\n",
    "            predicted_vector, gold_vector = predicted_matrix[:, i], gold_matrix[:, i]\n",
    "            if metric == 'f_score':\n",
    "                score = metric_func(gold_vector, predicted_vector, beta=BETA_FINE)\n",
    "            else:\n",
    "                score = metric_func(gold_vector, predicted_vector, pos_label=1)\n",
    "            score_list.append(score)\n",
    "        mean, std = np.mean(score_list), np.std(score_list)\n",
    "        metric_score_dict[metric] = {\"mean\": round(mean,2), \"std\": round(std, 2)}\n",
    "    \n",
    "    auc_score_list = []\n",
    "\n",
    "    fpr_list, tpr_list = [], []\n",
    "    for i in seed_number:\n",
    "        predicted_scores_vector, gold_vector = predicted_scores_matrix[:, i], gold_matrix[:, i]\n",
    "        score = roc_auc_score(gold_vector, predicted_scores_vector, average='micro')\n",
    "        auc_score_list.append(score)\n",
    "\n",
    "    mean, std = np.mean(auc_score_list), np.std(auc_score_list)\n",
    "    metric_score_dict['AUC-ROC'] = {\"mean\": round(mean,2), \"std\": round(std, 3)}\n",
    "\n",
    "    gold_vector = np.array([np.bincount(row).argmax() for row in gold_matrix]).reshape(-1,1)\n",
    "    fpr, tpr, _ = roc_curve(gold_vector, predicted_scores_matrix.mean(axis=1), pos_label=1)\n",
    "\n",
    "    metric_score_dict['FPR'] = fpr\n",
    "    metric_score_dict['TPR'] = tpr\n",
    "\n",
    "    \n",
    "    return metric_score_dict\n",
    "\n",
    "\n",
    "def score_by_thresh(dev_sc, dev_tr, test_sc, test_tr):\n",
    "    def get_threshold(score_list, exec_list):\n",
    "\n",
    "        scores = score_list\n",
    "        target = exec_list\n",
    "\n",
    "        sorted_indices = np.argsort(scores)\n",
    "        sorted_scores = np.array(scores)[sorted_indices]\n",
    "        sorted_targets = np.array(target)[sorted_indices]\n",
    "\n",
    "        max_score, threshold = 0, -1\n",
    "        for idx in range(len(sorted_targets)):\n",
    "            cum_score = sum(sorted_targets[:idx+1])\n",
    "            if cum_score > max_score:\n",
    "                # print('cum_score > max_score')\n",
    "                max_score, threshold = cum_score, sorted_scores[idx-1]\n",
    "\n",
    "        return threshold  # We abstain if maxent is greater than this threshold.\n",
    "    \n",
    "    seed_number = range(dev_sc.shape[1])\n",
    "    predicted_test_targets = []\n",
    "    predicted_test_targets_proba = []\n",
    "    for i in seed_number:\n",
    "        \n",
    "        dev_scores = dev_sc[:, i].reshape(-1,1)\n",
    "        test_scores = test_sc[:, i].reshape(-1,1)\n",
    "        dev_targets = dev_tr[:, i]\n",
    "        \n",
    "\n",
    "\n",
    "        calibrated_cls_dev_pred = dev_scores\n",
    "        calibrated_cls_test_pred = test_scores\n",
    "        \n",
    "        \n",
    "        treshold = get_threshold(calibrated_cls_dev_pred, dev_targets)\n",
    "        tresh_preds_list = []\n",
    "        for score in calibrated_cls_test_pred:\n",
    "            if score > treshold:\n",
    "                tresh_preds_list.append(1)\n",
    "            else:\n",
    "                tresh_preds_list.append(0)\n",
    "                \n",
    "        tresh_preds_list_inverted = [1 if x == 0 else 0 for x in tresh_preds_list]\n",
    "        \n",
    "        gold_vector = test_tr[:, i]\n",
    "        score = fbeta_score(gold_vector, tresh_preds_list, pos_label=1, beta=BETA_FINE)\n",
    "        inverted_score = fbeta_score(gold_vector, tresh_preds_list_inverted, pos_label=1, beta=BETA_FINE)\n",
    "\n",
    "        if score > inverted_score:\n",
    "            predicted_test_targets.append(tresh_preds_list)\n",
    "        else:\n",
    "            predicted_test_targets.append(tresh_preds_list_inverted)\n",
    "            \n",
    "        min_score, max_score = np.min(calibrated_cls_dev_pred, axis=0), np.max(calibrated_cls_dev_pred, axis=0)\n",
    "        calibrated_cls_test_pred = (calibrated_cls_test_pred - min_score) / (max_score - min_score)\n",
    "        calibrated_cls_test_pred = np.clip(calibrated_cls_test_pred, 0, 1).flatten().tolist()\n",
    "        predicted_test_targets_proba.append(calibrated_cls_test_pred)\n",
    "        \n",
    "    predicted_test_targets_matrix = np.array(predicted_test_targets).T\n",
    "    predicted_test_proba_matrix = np.array(predicted_test_targets_proba).T\n",
    "    \n",
    "    return predicted_test_targets_matrix, predicted_test_proba_matrix"
   ]
  },
  {
   "cell_type": "markdown",
   "id": "e5331cfa-1830-4ad5-af59-9e8a0becdfe5",
   "metadata": {},
   "source": [
    "### error detection method accuracy"
   ]
  },
  {
   "cell_type": "code",
   "execution_count": 3,
   "id": "6c46e4ff-78da-4788-89b1-8d2940f03172",
   "metadata": {
    "tags": []
   },
   "outputs": [
    {
     "name": "stdout",
     "output_type": "stream",
     "text": [
      "T5-large PAUQ XSP\n"
     ]
    },
    {
     "name": "stderr",
     "output_type": "stream",
     "text": [
      "100%|███████████████████████████████████████████████████████████████████████████████████████████████████████████| 1076/1076 [00:07<00:00, 148.00it/s]\n",
      "100%|███████████████████████████████████████████████████████████████████████████████████████████████████████████| 1076/1076 [00:02<00:00, 454.18it/s]\n",
      "100%|███████████████████████████████████████████████████████████████████████████████████████████████████████████| 1076/1076 [00:03<00:00, 277.30it/s]\n"
     ]
    },
    {
     "name": "stdout",
     "output_type": "stream",
     "text": [
      "(1076, 3) (1076, 3)\n",
      "T5-large Template SSP split\n"
     ]
    },
    {
     "name": "stderr",
     "output_type": "stream",
     "text": [
      "100%|█████████████████████████████████████████████████████████████████████████████████████████████████████████████| 986/986 [00:06<00:00, 152.50it/s]\n",
      "100%|█████████████████████████████████████████████████████████████████████████████████████████████████████████████| 986/986 [00:03<00:00, 291.33it/s]\n",
      "100%|█████████████████████████████████████████████████████████████████████████████████████████████████████████████| 986/986 [00:02<00:00, 430.72it/s]\n"
     ]
    },
    {
     "name": "stdout",
     "output_type": "stream",
     "text": [
      "(986, 3) (986, 3)\n",
      "T5-large TSL SSP split\n"
     ]
    },
    {
     "name": "stderr",
     "output_type": "stream",
     "text": [
      "100%|██████████████████████████████████████████████████████████████████████████████████████████████████████████████| 986/986 [00:10<00:00, 91.23it/s]\n",
      "100%|██████████████████████████████████████████████████████████████████████████████████████████████████████████████| 986/986 [00:10<00:00, 90.07it/s]\n",
      "100%|█████████████████████████████████████████████████████████████████████████████████████████████████████████████| 986/986 [00:08<00:00, 120.16it/s]\n"
     ]
    },
    {
     "name": "stdout",
     "output_type": "stream",
     "text": [
      "(986, 3) (986, 3)\n",
      "T5-large EHRSQL\n"
     ]
    },
    {
     "name": "stderr",
     "output_type": "stream",
     "text": [
      "100%|███████████████████████████████████████████████████████████████████████████████████████████████████████████| 1167/1167 [00:09<00:00, 122.69it/s]\n",
      "100%|██████████████████████████████████████████████████████████████████████████████████████████████████████████| 1167/1167 [00:01<00:00, 1034.40it/s]\n",
      "100%|███████████████████████████████████████████████████████████████████████████████████████████████████████████| 1167/1167 [00:01<00:00, 986.68it/s]\n"
     ]
    },
    {
     "name": "stdout",
     "output_type": "stream",
     "text": [
      "(1167, 3) (1167, 3)\n",
      "T5-3B PAUQ XSP\n"
     ]
    },
    {
     "name": "stderr",
     "output_type": "stream",
     "text": [
      "100%|███████████████████████████████████████████████████████████████████████████████████████████████████████████| 1076/1076 [00:02<00:00, 361.00it/s]\n",
      "100%|███████████████████████████████████████████████████████████████████████████████████████████████████████████| 1076/1076 [00:03<00:00, 291.05it/s]\n",
      "100%|███████████████████████████████████████████████████████████████████████████████████████████████████████████| 1076/1076 [00:01<00:00, 703.70it/s]\n"
     ]
    },
    {
     "name": "stdout",
     "output_type": "stream",
     "text": [
      "(1076, 3) (1076, 3)\n",
      "T5-3B Template SSP split\n"
     ]
    },
    {
     "name": "stderr",
     "output_type": "stream",
     "text": [
      "100%|█████████████████████████████████████████████████████████████████████████████████████████████████████████████| 986/986 [00:01<00:00, 665.77it/s]\n",
      "100%|████████████████████████████████████████████████████████████████████████████████████████████████████████████| 986/986 [00:00<00:00, 2689.69it/s]\n",
      "100%|████████████████████████████████████████████████████████████████████████████████████████████████████████████| 986/986 [00:00<00:00, 3220.40it/s]\n"
     ]
    },
    {
     "name": "stdout",
     "output_type": "stream",
     "text": [
      "(986, 3) (986, 3)\n",
      "T5-3B TSL SSP split\n"
     ]
    },
    {
     "name": "stderr",
     "output_type": "stream",
     "text": [
      "100%|█████████████████████████████████████████████████████████████████████████████████████████████████████████████| 986/986 [00:05<00:00, 182.96it/s]\n",
      "100%|█████████████████████████████████████████████████████████████████████████████████████████████████████████████| 986/986 [00:06<00:00, 152.74it/s]\n",
      "100%|█████████████████████████████████████████████████████████████████████████████████████████████████████████████| 986/986 [00:04<00:00, 234.00it/s]\n"
     ]
    },
    {
     "name": "stdout",
     "output_type": "stream",
     "text": [
      "(986, 3) (986, 3)\n",
      "T5-3B EHRSQL\n"
     ]
    },
    {
     "name": "stderr",
     "output_type": "stream",
     "text": [
      "100%|███████████████████████████████████████████████████████████████████████████████████████████████████████████| 1167/1167 [00:01<00:00, 865.84it/s]\n",
      "100%|███████████████████████████████████████████████████████████████████████████████████████████████████████████| 1167/1167 [00:01<00:00, 944.12it/s]\n",
      "100%|██████████████████████████████████████████████████████████████████████████████████████████████████████████| 1167/1167 [00:00<00:00, 1694.66it/s]\n"
     ]
    },
    {
     "name": "stdout",
     "output_type": "stream",
     "text": [
      "(1167, 3) (1167, 3)\n",
      "DIAL-SQL PAUQ XSP\n"
     ]
    },
    {
     "name": "stderr",
     "output_type": "stream",
     "text": [
      "100%|███████████████████████████████████████████████████████████████████████████████████████████████████████████| 1076/1076 [00:10<00:00, 105.16it/s]\n"
     ]
    },
    {
     "name": "stdout",
     "output_type": "stream",
     "text": [
      "(1076, 1) (1076, 1)\n",
      "DIAL-SQL Template SSP split\n"
     ]
    },
    {
     "name": "stderr",
     "output_type": "stream",
     "text": [
      "100%|█████████████████████████████████████████████████████████████████████████████████████████████████████████████| 986/986 [00:09<00:00, 105.07it/s]\n"
     ]
    },
    {
     "name": "stdout",
     "output_type": "stream",
     "text": [
      "(986, 1) (986, 1)\n",
      "DIAL-SQL TSL SSP split\n"
     ]
    },
    {
     "name": "stderr",
     "output_type": "stream",
     "text": [
      "100%|██████████████████████████████████████████████████████████████████████████████████████████████████████████████| 986/986 [00:14<00:00, 65.80it/s]\n"
     ]
    },
    {
     "name": "stdout",
     "output_type": "stream",
     "text": [
      "(986, 1) (986, 1)\n",
      "DIAL-SQL EHRSQL\n"
     ]
    },
    {
     "name": "stderr",
     "output_type": "stream",
     "text": [
      "100%|███████████████████████████████████████████████████████████████████████████████████████████████████████████| 1167/1167 [00:07<00:00, 158.14it/s]\n"
     ]
    },
    {
     "name": "stdout",
     "output_type": "stream",
     "text": [
      "(1167, 1) (1167, 1)\n",
      "Llama3-8B LoRA PAUQ XSP\n"
     ]
    },
    {
     "name": "stderr",
     "output_type": "stream",
     "text": [
      "100%|███████████████████████████████████████████████████████████████████████████████████████████████████████████| 1076/1076 [00:07<00:00, 139.84it/s]\n",
      "100%|███████████████████████████████████████████████████████████████████████████████████████████████████████████| 1076/1076 [00:05<00:00, 207.51it/s]\n",
      "100%|███████████████████████████████████████████████████████████████████████████████████████████████████████████| 1076/1076 [00:03<00:00, 339.07it/s]\n"
     ]
    },
    {
     "name": "stdout",
     "output_type": "stream",
     "text": [
      "(1076, 3) (1076, 3)\n",
      "Llama3-8B LoRA Template SSP split\n"
     ]
    },
    {
     "name": "stderr",
     "output_type": "stream",
     "text": [
      "100%|█████████████████████████████████████████████████████████████████████████████████████████████████████████████| 986/986 [00:06<00:00, 163.07it/s]\n",
      "100%|█████████████████████████████████████████████████████████████████████████████████████████████████████████████| 986/986 [00:05<00:00, 170.67it/s]\n",
      "100%|█████████████████████████████████████████████████████████████████████████████████████████████████████████████| 986/986 [00:04<00:00, 214.42it/s]\n"
     ]
    },
    {
     "name": "stdout",
     "output_type": "stream",
     "text": [
      "(986, 3) (986, 3)\n",
      "Llama3-8B LoRA TSL SSP split\n"
     ]
    },
    {
     "name": "stderr",
     "output_type": "stream",
     "text": [
      "100%|██████████████████████████████████████████████████████████████████████████████████████████████████████████████| 986/986 [00:12<00:00, 80.94it/s]\n",
      "100%|█████████████████████████████████████████████████████████████████████████████████████████████████████████████| 986/986 [00:08<00:00, 116.84it/s]\n",
      "100%|█████████████████████████████████████████████████████████████████████████████████████████████████████████████| 986/986 [00:09<00:00, 106.24it/s]\n"
     ]
    },
    {
     "name": "stdout",
     "output_type": "stream",
     "text": [
      "(986, 3) (986, 3)\n",
      "Llama3-8B LoRA EHRSQL\n"
     ]
    },
    {
     "name": "stderr",
     "output_type": "stream",
     "text": [
      "100%|███████████████████████████████████████████████████████████████████████████████████████████████████████████| 1167/1167 [00:08<00:00, 139.71it/s]\n",
      "100%|███████████████████████████████████████████████████████████████████████████████████████████████████████████| 1167/1167 [00:06<00:00, 192.79it/s]\n",
      "100%|███████████████████████████████████████████████████████████████████████████████████████████████████████████| 1167/1167 [00:04<00:00, 272.78it/s]\n"
     ]
    },
    {
     "name": "stdout",
     "output_type": "stream",
     "text": [
      "(1167, 3) (1167, 3)\n",
      "Llama3-8B SFT PAUQ XSP\n"
     ]
    },
    {
     "name": "stderr",
     "output_type": "stream",
     "text": [
      "100%|███████████████████████████████████████████████████████████████████████████████████████████████████████████| 1076/1076 [00:05<00:00, 209.79it/s]\n",
      "100%|███████████████████████████████████████████████████████████████████████████████████████████████████████████| 1076/1076 [00:02<00:00, 466.01it/s]\n",
      "100%|███████████████████████████████████████████████████████████████████████████████████████████████████████████| 1076/1076 [00:03<00:00, 305.64it/s]\n"
     ]
    },
    {
     "name": "stdout",
     "output_type": "stream",
     "text": [
      "(1076, 3) (1076, 3)\n",
      "Llama3-8B SFT Template SSP split\n"
     ]
    },
    {
     "name": "stderr",
     "output_type": "stream",
     "text": [
      "100%|█████████████████████████████████████████████████████████████████████████████████████████████████████████████| 986/986 [00:04<00:00, 207.96it/s]\n",
      "100%|█████████████████████████████████████████████████████████████████████████████████████████████████████████████| 986/986 [00:04<00:00, 224.83it/s]\n",
      "100%|█████████████████████████████████████████████████████████████████████████████████████████████████████████████| 986/986 [00:04<00:00, 223.93it/s]\n"
     ]
    },
    {
     "name": "stdout",
     "output_type": "stream",
     "text": [
      "(986, 3) (986, 3)\n",
      "Llama3-8B SFT TSL SSP split\n"
     ]
    },
    {
     "name": "stderr",
     "output_type": "stream",
     "text": [
      "100%|██████████████████████████████████████████████████████████████████████████████████████████████████████████████| 986/986 [00:10<00:00, 97.81it/s]\n",
      "100%|█████████████████████████████████████████████████████████████████████████████████████████████████████████████| 986/986 [00:08<00:00, 120.16it/s]\n",
      "100%|█████████████████████████████████████████████████████████████████████████████████████████████████████████████| 986/986 [00:08<00:00, 117.20it/s]\n"
     ]
    },
    {
     "name": "stdout",
     "output_type": "stream",
     "text": [
      "(986, 3) (986, 3)\n",
      "Llama3-8B SFT EHRSQL\n"
     ]
    },
    {
     "name": "stderr",
     "output_type": "stream",
     "text": [
      "100%|███████████████████████████████████████████████████████████████████████████████████████████████████████████| 1167/1167 [00:04<00:00, 282.00it/s]\n",
      "100%|███████████████████████████████████████████████████████████████████████████████████████████████████████████| 1167/1167 [00:04<00:00, 273.99it/s]\n",
      "100%|███████████████████████████████████████████████████████████████████████████████████████████████████████████| 1167/1167 [00:03<00:00, 325.54it/s]\n"
     ]
    },
    {
     "name": "stdout",
     "output_type": "stream",
     "text": [
      "(1167, 3) (1167, 3)\n",
      "LR=0.7629999999999999, 0.1340186554178186\n",
      "GM=0.7245, 0.11719534973709494\n",
      "TR=0.7575, 0.12242855059176351\n"
     ]
    }
   ],
   "source": [
    "model_name_list = ['t5-large', 't5-3b', 'dailsql', 'llama3_lora', 'llama3_sft']\n",
    "splits = ['pauq_xsp', 'template_ssp', 'tsl_ssp', 'ehrsql']\n",
    "\n",
    "\n",
    "# model_name_list = ['t5-large']\n",
    "# splits = ['pauq_xsp']\n",
    "\n",
    "gmm_scores_stack = np.zeros((1,3))\n",
    "true_targets_stack = np.zeros((1,3))\n",
    "\n",
    "\n",
    "metrics_result_dict = dict()\n",
    "lr_mean, gm_mean, tr_mean = [], [], []\n",
    "\n",
    "\n",
    "for model_name in model_name_list:\n",
    "    off_model_name = data_constants.MODEL_NAMES[model_name]\n",
    "    metrics_result_dict[off_model_name] = dict()\n",
    "    for split_name in splits:\n",
    "        off_split_name = data_constants.SPLITS_NAMES[split_name]\n",
    "\n",
    "        print(off_model_name, off_split_name)\n",
    "        metrics_result_dict[off_model_name][off_split_name] = dict()\n",
    "        scores, targets = support_functions.make_numpy_arrays(split_name, model_name, data_constants.SEED_LIST,\n",
    "                                                                      data_constants.SPLITS_PREDICTIONS_PATH, \n",
    "                                                                      data_constants.GOLD_TEST_SPLIT_PATH)\n",
    "        if scores is not None:\n",
    "            dev_sc, dev_tr, test_sc, test_tr = support_functions.create_split(scores, targets)\n",
    "            logreg_pred, logreg_proba_preds = score_by_logreg(dev_sc, dev_tr, test_sc, test_tr)\n",
    "            log_reg_metrics_dict = evaluate_predictions(logreg_pred, logreg_proba_preds, test_tr, 'Logistic Regression')\n",
    "            metrics_result_dict[off_model_name][off_split_name]['Logistic Regression'] = log_reg_metrics_dict\n",
    "            lr_mean.append(log_reg_metrics_dict['f_score']['mean'])\n",
    "            \n",
    "            gmm_pred, gmm_proba_preds = score_by_gmm(dev_sc, dev_tr, test_sc, test_tr)\n",
    "            gmm_metrics_dict = evaluate_predictions(gmm_pred, gmm_proba_preds, test_tr, 'Gaussian Mixture')\n",
    "            metrics_result_dict[off_model_name][off_split_name]['Gaussian Mixture'] = gmm_metrics_dict\n",
    "            gm_mean.append(gmm_metrics_dict['f_score']['mean'])\n",
    "\n",
    "            tresh_pred, tresh_proba = score_by_thresh(dev_sc, dev_tr, test_sc, test_tr)\n",
    "            tresh_metrics_dict = evaluate_predictions(tresh_pred, tresh_proba, test_tr, 'Threshold')\n",
    "            metrics_result_dict[off_model_name][off_split_name]['Threshold'] = tresh_metrics_dict\n",
    "            tr_mean.append(tresh_metrics_dict['f_score']['mean'])\n",
    "        else:\n",
    "            lr_mean.append(0)\n",
    "            gm_mean.append(0)\n",
    "            tr_mean.append(0)\n",
    "\n",
    "            \n",
    "        \n",
    "print(f'LR={np.mean(lr_mean)}, {np.std(lr_mean)}')\n",
    "print(f'GM={np.mean(gm_mean)}, {np.std(gm_mean)}')\n",
    "print(f'TR={np.mean(tr_mean)}, {np.std(tr_mean)}')"
   ]
  },
  {
   "cell_type": "markdown",
   "id": "18c0ece9-f16c-4d54-9dc3-49eb6a501115",
   "metadata": {},
   "source": [
    "### Подготовка heatmap по сплитам"
   ]
  },
  {
   "cell_type": "code",
   "execution_count": 6,
   "id": "a122b75c-ec9e-4e50-a1ce-21ae251fbeac",
   "metadata": {
    "tags": []
   },
   "outputs": [
    {
     "data": {
      "image/png": "[encoded data removed]",
      "text/plain": [
       "<Figure size 1224x288 with 4 Axes>"
      ]
     },
     "metadata": {
      "image/png": {
       "height": 340,
       "width": 1040
      },
      "needs_background": "light"
     },
     "output_type": "display_data"
    }
   ],
   "source": [
    "method_result_list = ['Logistic Regression', 'Gaussian Mixture', 'Threshold']\n",
    "\n",
    "model_names = ['t5-large', 't5-3b', 'dailsql', 'llama3_lora', 'llama3_sft']\n",
    "split_names = ['pauq_xsp', 'template_ssp', 'tsl_ssp', 'ehrsql']\n",
    "\n",
    "fig, axs = plt.subplots(1, len(method_result_list), figsize=(17, 4))\n",
    "\n",
    "\n",
    "for idx, method in enumerate(method_result_list):\n",
    "    \n",
    "    method_heat_matrix = np.zeros((len(model_names), len(split_names)))\n",
    "    for i, model_name in enumerate(model_names):\n",
    "        for j, split in enumerate(split_names):\n",
    "            off_model_name = data_constants.MODEL_NAMES[model_name] \n",
    "            off_split_name = data_constants.SPLITS_NAMES[split]\n",
    "            \n",
    "            fbeta_score_value = metrics_result_dict[off_model_name][off_split_name][method]['f_score']['mean']\n",
    "            \n",
    "            method_heat_matrix[i][j] = fbeta_score_value\n",
    "\n",
    "    off_model_name_list = [data_constants.MODEL_NAMES[model_name] for model_name in model_names]\n",
    "    off_split_name_list = [data_constants.SPLITS_NAMES[split].replace(' split', '') for split in split_names]\n",
    "    #https://matplotlib.org/stable/users/explain/colors/colormaps.html\n",
    "    axs[idx].imshow(method_heat_matrix, cmap='RdYlBu')\n",
    "    axs[idx].set_xticks(np.arange(len(off_split_name_list)), labels=off_split_name_list) \n",
    "    axs[idx].set_yticks(np.arange(len(off_model_name_list)), labels=off_model_name_list)\n",
    "    \n",
    "    plt.setp(axs[idx].get_xticklabels(), rotation=45, ha=\"right\",\n",
    "                     rotation_mode=\"anchor\")\n",
    "    \n",
    "    for i in range(len(model_names)):\n",
    "        for j in range(len(split_names)):\n",
    "            text = axs[idx].text(j, i, method_heat_matrix[i][j],\n",
    "                           ha=\"center\", va=\"center\", color='black')\n",
    "            \n",
    "    axs[idx].set_title(f\"{method}\")\n",
    "    \n",
    "ax=plt.gca() #get the current axes\n",
    "PCM=ax.get_children()[2] #get the mappable, the 1st and the 2nd are the x and y axes\n",
    "for PCM in ax.get_children():\n",
    "    if isinstance(PCM, plt.cm.ScalarMappable):\n",
    "        break\n",
    "        \n",
    "plt.colorbar(PCM, ax=ax)\n",
    "\n",
    "\n",
    "fig.savefig('confidence estimation data/methods_heatmaps.png', dpi=300, bbox_inches='tight', transparent=True)"
   ]
  },
  {
   "cell_type": "markdown",
   "id": "8ff2b977-fd8c-4e70-a5a5-36a8dc238c7a",
   "metadata": {
    "jp-MarkdownHeadingCollapsed": true,
    "tags": []
   },
   "source": [
    "### Method per model per split accuracy table"
   ]
  },
  {
   "cell_type": "code",
   "execution_count": 298,
   "id": "ec55e417-08df-4f0e-8f92-5aab45ec4747",
   "metadata": {
    "tags": []
   },
   "outputs": [
    {
     "data": {
      "text/html": [
       "<div>\n",
       "<style scoped>\n",
       "    .dataframe tbody tr th:only-of-type {\n",
       "        vertical-align: middle;\n",
       "    }\n",
       "\n",
       "    .dataframe tbody tr th {\n",
       "        vertical-align: top;\n",
       "    }\n",
       "\n",
       "    .dataframe thead th {\n",
       "        text-align: right;\n",
       "    }\n",
       "</style>\n",
       "<table border=\"1\" class=\"dataframe\">\n",
       "  <thead>\n",
       "    <tr style=\"text-align: right;\">\n",
       "      <th></th>\n",
       "      <th></th>\n",
       "      <th>Recall</th>\n",
       "      <th>Precision</th>\n",
       "      <th>F_{\beta}</th>\n",
       "      <th>AUC-ROC</th>\n",
       "      <th>$\\sigma$ F_{$\beta$}</th>\n",
       "    </tr>\n",
       "  </thead>\n",
       "  <tbody>\n",
       "    <tr>\n",
       "      <th rowspan=\"3\" valign=\"top\">T5-large</th>\n",
       "      <th>Logistic Regression</th>\n",
       "      <td>0.75</td>\n",
       "      <td>0.64</td>\n",
       "      <td>0.74</td>\n",
       "      <td>0.66</td>\n",
       "      <td>0.03</td>\n",
       "    </tr>\n",
       "    <tr>\n",
       "      <th>Gaussian Mixture</th>\n",
       "      <td>0.74</td>\n",
       "      <td>0.64</td>\n",
       "      <td>0.73</td>\n",
       "      <td>0.66</td>\n",
       "      <td>0.09</td>\n",
       "    </tr>\n",
       "    <tr>\n",
       "      <th>Threshold</th>\n",
       "      <td>0.86</td>\n",
       "      <td>0.59</td>\n",
       "      <td>0.83</td>\n",
       "      <td>0.81</td>\n",
       "      <td>0.02</td>\n",
       "    </tr>\n",
       "    <tr>\n",
       "      <th rowspan=\"3\" valign=\"top\">T5-3B</th>\n",
       "      <th>Logistic Regression</th>\n",
       "      <td>0.78</td>\n",
       "      <td>0.60</td>\n",
       "      <td>0.76</td>\n",
       "      <td>0.62</td>\n",
       "      <td>0.03</td>\n",
       "    </tr>\n",
       "    <tr>\n",
       "      <th>Gaussian Mixture</th>\n",
       "      <td>0.81</td>\n",
       "      <td>0.54</td>\n",
       "      <td>0.78</td>\n",
       "      <td>0.65</td>\n",
       "      <td>0.06</td>\n",
       "    </tr>\n",
       "    <tr>\n",
       "      <th>Threshold</th>\n",
       "      <td>0.90</td>\n",
       "      <td>0.41</td>\n",
       "      <td>0.85</td>\n",
       "      <td>0.80</td>\n",
       "      <td>0.02</td>\n",
       "    </tr>\n",
       "    <tr>\n",
       "      <th rowspan=\"3\" valign=\"top\">DIAL-SQL</th>\n",
       "      <th>Logistic Regression</th>\n",
       "      <td>0.85</td>\n",
       "      <td>0.38</td>\n",
       "      <td>0.77</td>\n",
       "      <td>0.46</td>\n",
       "      <td>\\le 0.01</td>\n",
       "    </tr>\n",
       "    <tr>\n",
       "      <th>Gaussian Mixture</th>\n",
       "      <td>0.87</td>\n",
       "      <td>0.38</td>\n",
       "      <td>0.80</td>\n",
       "      <td>0.57</td>\n",
       "      <td>\\le 0.01</td>\n",
       "    </tr>\n",
       "    <tr>\n",
       "      <th>Threshold</th>\n",
       "      <td>0.81</td>\n",
       "      <td>0.41</td>\n",
       "      <td>0.77</td>\n",
       "      <td>0.29</td>\n",
       "      <td>\\le 0.01</td>\n",
       "    </tr>\n",
       "    <tr>\n",
       "      <th rowspan=\"3\" valign=\"top\">Llama3-8B LoRA</th>\n",
       "      <th>Logistic Regression</th>\n",
       "      <td>0.99</td>\n",
       "      <td>0.42</td>\n",
       "      <td>0.93</td>\n",
       "      <td>0.42</td>\n",
       "      <td>\\le 0.01</td>\n",
       "    </tr>\n",
       "    <tr>\n",
       "      <th>Gaussian Mixture</th>\n",
       "      <td>0.78</td>\n",
       "      <td>0.43</td>\n",
       "      <td>0.75</td>\n",
       "      <td>0.51</td>\n",
       "      <td>0.04</td>\n",
       "    </tr>\n",
       "    <tr>\n",
       "      <th>Threshold</th>\n",
       "      <td>0.89</td>\n",
       "      <td>0.40</td>\n",
       "      <td>0.84</td>\n",
       "      <td>0.63</td>\n",
       "      <td>0.04</td>\n",
       "    </tr>\n",
       "    <tr>\n",
       "      <th rowspan=\"3\" valign=\"top\">Llama3-8B SFT</th>\n",
       "      <th>Logistic Regression</th>\n",
       "      <td>0.99</td>\n",
       "      <td>0.39</td>\n",
       "      <td>0.92</td>\n",
       "      <td>0.38</td>\n",
       "      <td>\\le 0.01</td>\n",
       "    </tr>\n",
       "    <tr>\n",
       "      <th>Gaussian Mixture</th>\n",
       "      <td>0.82</td>\n",
       "      <td>0.48</td>\n",
       "      <td>0.80</td>\n",
       "      <td>0.61</td>\n",
       "      <td>\\le 0.01</td>\n",
       "    </tr>\n",
       "    <tr>\n",
       "      <th>Threshold</th>\n",
       "      <td>0.80</td>\n",
       "      <td>0.40</td>\n",
       "      <td>0.76</td>\n",
       "      <td>0.65</td>\n",
       "      <td>\\le 0.01</td>\n",
       "    </tr>\n",
       "  </tbody>\n",
       "</table>\n",
       "</div>"
      ],
      "text/plain": [
       "                                    Recall  Precision  F_{\beta}  AUC-ROC  \\\n",
       "T5-large       Logistic Regression    0.75       0.64      0.74     0.66   \n",
       "               Gaussian Mixture       0.74       0.64      0.73     0.66   \n",
       "               Threshold              0.86       0.59      0.83     0.81   \n",
       "T5-3B          Logistic Regression    0.78       0.60      0.76     0.62   \n",
       "               Gaussian Mixture       0.81       0.54      0.78     0.65   \n",
       "               Threshold              0.90       0.41      0.85     0.80   \n",
       "DIAL-SQL       Logistic Regression    0.85       0.38      0.77     0.46   \n",
       "               Gaussian Mixture       0.87       0.38      0.80     0.57   \n",
       "               Threshold              0.81       0.41      0.77     0.29   \n",
       "Llama3-8B LoRA Logistic Regression    0.99       0.42      0.93     0.42   \n",
       "               Gaussian Mixture       0.78       0.43      0.75     0.51   \n",
       "               Threshold              0.89       0.40      0.84     0.63   \n",
       "Llama3-8B SFT  Logistic Regression    0.99       0.39      0.92     0.38   \n",
       "               Gaussian Mixture       0.82       0.48      0.80     0.61   \n",
       "               Threshold              0.80       0.40      0.76     0.65   \n",
       "\n",
       "                                   $\\sigma$ F_{$\beta$}  \n",
       "T5-large       Logistic Regression                0.03  \n",
       "               Gaussian Mixture                   0.09  \n",
       "               Threshold                          0.02  \n",
       "T5-3B          Logistic Regression                0.03  \n",
       "               Gaussian Mixture                   0.06  \n",
       "               Threshold                          0.02  \n",
       "DIAL-SQL       Logistic Regression            \\le 0.01  \n",
       "               Gaussian Mixture               \\le 0.01  \n",
       "               Threshold                      \\le 0.01  \n",
       "Llama3-8B LoRA Logistic Regression            \\le 0.01  \n",
       "               Gaussian Mixture                   0.04  \n",
       "               Threshold                          0.04  \n",
       "Llama3-8B SFT  Logistic Regression            \\le 0.01  \n",
       "               Gaussian Mixture               \\le 0.01  \n",
       "               Threshold                      \\le 0.01  "
      ]
     },
     "execution_count": 298,
     "metadata": {},
     "output_type": "execute_result"
    }
   ],
   "source": [
    "model_for_method_metrics = dict()\n",
    "metrics_list = ['Recall', 'Precision', 'F_{\\beta}', 'AUC-ROC', '$\\sigma$ F_{$\\beta$}']\n",
    "method_list = ['LR', 'GM', 'TR']\n",
    "\n",
    "\n",
    "\n",
    "for model_name in metrics_result_dict.keys():\n",
    "    model_for_method_metrics[model_name] = {'Logistic Regression': {key: 0 for key in metrics_list}, \n",
    "                                            'Gaussian Mixture':{key: 0 for key in metrics_list}, \n",
    "                                            'Threshold':{key: 0 for key in metrics_list}}\n",
    "    for split in data_constants.SPLITS_NAMES.values():\n",
    "        for method in metrics_result_dict[model_name][split].keys():\n",
    "            \n",
    "            recall = metrics_result_dict[model_name][split][method]['recall']['mean']\n",
    "            precision = metrics_result_dict[model_name][split][method]['precision']['mean']\n",
    "            f1 = metrics_result_dict[model_name][split][method]['f_score']['mean']\n",
    "            f1_std = metrics_result_dict[model_name][split][method]['f_score']['std']\n",
    "            auc = metrics_result_dict[model_name][split][method]['AUC-ROC']['mean']\n",
    "\n",
    "            \n",
    "            model_for_method_metrics[model_name][method]['Recall'] += recall\n",
    "            model_for_method_metrics[model_name][method]['Precision'] += precision\n",
    "            model_for_method_metrics[model_name][method]['F_{\\beta}'] += f1\n",
    "            model_for_method_metrics[model_name][method]['$\\sigma$ F_{$\\beta$}'] += f1_std\n",
    "            \n",
    "            model_for_method_metrics[model_name][method]['AUC-ROC'] += auc\n",
    "\n",
    "            \n",
    "for model_name in metrics_result_dict.keys():\n",
    "    for method in model_for_method_metrics[model_name]:\n",
    "        for metric in metrics_list:\n",
    "            metrics_score = round(model_for_method_metrics[model_name][method][metric] / len(splits), 2)\n",
    "            model_for_method_metrics[model_name][method][metric] = metrics_score        \n",
    "        \n",
    "df = pd.concat({k: pd.DataFrame(v).T for k, v in model_for_method_metrics.items()}, axis=0)\n",
    "df = df[['Recall', 'Precision', 'F_{\\beta}', 'AUC-ROC', '$\\sigma$ F_{$\\beta$}']]\n",
    "\n",
    "df['$\\sigma$ F_{$\\beta$}'] = df['$\\sigma$ F_{$\\beta$}'].apply(lambda x: \"\\le 0.01\" if x == 0 else x)\n",
    "df"
   ]
  },
  {
   "cell_type": "markdown",
   "id": "845cc8e8-b602-4cdf-a735-16732885c4ad",
   "metadata": {
    "jp-MarkdownHeadingCollapsed": true,
    "tags": []
   },
   "source": [
    "### Method per model per split accuracy table"
   ]
  },
  {
   "cell_type": "code",
   "execution_count": 299,
   "id": "402aad4a-250a-48d4-a238-16230b5050ea",
   "metadata": {
    "tags": []
   },
   "outputs": [
    {
     "data": {
      "text/html": [
       "<div>\n",
       "<style scoped>\n",
       "    .dataframe tbody tr th:only-of-type {\n",
       "        vertical-align: middle;\n",
       "    }\n",
       "\n",
       "    .dataframe tbody tr th {\n",
       "        vertical-align: top;\n",
       "    }\n",
       "\n",
       "    .dataframe thead th {\n",
       "        text-align: right;\n",
       "    }\n",
       "</style>\n",
       "<table border=\"1\" class=\"dataframe\">\n",
       "  <thead>\n",
       "    <tr style=\"text-align: right;\">\n",
       "      <th></th>\n",
       "      <th></th>\n",
       "      <th>Recall</th>\n",
       "      <th>Precision</th>\n",
       "      <th>F_{\beta}</th>\n",
       "      <th>AUC-ROC</th>\n",
       "      <th>sigma</th>\n",
       "    </tr>\n",
       "  </thead>\n",
       "  <tbody>\n",
       "    <tr>\n",
       "      <th rowspan=\"3\" valign=\"top\">PAUQ XSP</th>\n",
       "      <th>Logistic Regression</th>\n",
       "      <td>0.82</td>\n",
       "      <td>0.39</td>\n",
       "      <td>0.75</td>\n",
       "      <td>0.50</td>\n",
       "      <td>0.01</td>\n",
       "    </tr>\n",
       "    <tr>\n",
       "      <th>Gaussian Mixture</th>\n",
       "      <td>0.80</td>\n",
       "      <td>0.38</td>\n",
       "      <td>0.77</td>\n",
       "      <td>0.65</td>\n",
       "      <td>0.06</td>\n",
       "    </tr>\n",
       "    <tr>\n",
       "      <th>Threshold</th>\n",
       "      <td>0.87</td>\n",
       "      <td>0.39</td>\n",
       "      <td>0.82</td>\n",
       "      <td>0.62</td>\n",
       "      <td>0.02</td>\n",
       "    </tr>\n",
       "    <tr>\n",
       "      <th rowspan=\"3\" valign=\"top\">Template SSP split</th>\n",
       "      <th>Logistic Regression</th>\n",
       "      <td>0.89</td>\n",
       "      <td>0.25</td>\n",
       "      <td>0.80</td>\n",
       "      <td>0.30</td>\n",
       "      <td>0.02</td>\n",
       "    </tr>\n",
       "    <tr>\n",
       "      <th>Gaussian Mixture</th>\n",
       "      <td>0.80</td>\n",
       "      <td>0.29</td>\n",
       "      <td>0.73</td>\n",
       "      <td>0.44</td>\n",
       "      <td>0.02</td>\n",
       "    </tr>\n",
       "    <tr>\n",
       "      <th>Threshold</th>\n",
       "      <td>0.93</td>\n",
       "      <td>0.28</td>\n",
       "      <td>0.85</td>\n",
       "      <td>0.63</td>\n",
       "      <td>0.02</td>\n",
       "    </tr>\n",
       "    <tr>\n",
       "      <th rowspan=\"3\" valign=\"top\">TSL SSP split</th>\n",
       "      <th>Logistic Regression</th>\n",
       "      <td>0.98</td>\n",
       "      <td>0.63</td>\n",
       "      <td>0.96</td>\n",
       "      <td>0.59</td>\n",
       "      <td>\\le 0.01</td>\n",
       "    </tr>\n",
       "    <tr>\n",
       "      <th>Gaussian Mixture</th>\n",
       "      <td>0.86</td>\n",
       "      <td>0.64</td>\n",
       "      <td>0.85</td>\n",
       "      <td>0.53</td>\n",
       "      <td>0.05</td>\n",
       "    </tr>\n",
       "    <tr>\n",
       "      <th>Threshold</th>\n",
       "      <td>0.91</td>\n",
       "      <td>0.63</td>\n",
       "      <td>0.89</td>\n",
       "      <td>0.59</td>\n",
       "      <td>\\le 0.01</td>\n",
       "    </tr>\n",
       "    <tr>\n",
       "      <th rowspan=\"3\" valign=\"top\">EHRSQL</th>\n",
       "      <th>Logistic Regression</th>\n",
       "      <td>0.80</td>\n",
       "      <td>0.68</td>\n",
       "      <td>0.78</td>\n",
       "      <td>0.64</td>\n",
       "      <td>0.02</td>\n",
       "    </tr>\n",
       "    <tr>\n",
       "      <th>Gaussian Mixture</th>\n",
       "      <td>0.74</td>\n",
       "      <td>0.68</td>\n",
       "      <td>0.74</td>\n",
       "      <td>0.79</td>\n",
       "      <td>0.02</td>\n",
       "    </tr>\n",
       "    <tr>\n",
       "      <th>Threshold</th>\n",
       "      <td>0.69</td>\n",
       "      <td>0.47</td>\n",
       "      <td>0.67</td>\n",
       "      <td>0.71</td>\n",
       "      <td>0.03</td>\n",
       "    </tr>\n",
       "  </tbody>\n",
       "</table>\n",
       "</div>"
      ],
      "text/plain": [
       "                                        Recall  Precision  F_{\beta}  AUC-ROC  \\\n",
       "PAUQ XSP           Logistic Regression    0.82       0.39      0.75     0.50   \n",
       "                   Gaussian Mixture       0.80       0.38      0.77     0.65   \n",
       "                   Threshold              0.87       0.39      0.82     0.62   \n",
       "Template SSP split Logistic Regression    0.89       0.25      0.80     0.30   \n",
       "                   Gaussian Mixture       0.80       0.29      0.73     0.44   \n",
       "                   Threshold              0.93       0.28      0.85     0.63   \n",
       "TSL SSP split      Logistic Regression    0.98       0.63      0.96     0.59   \n",
       "                   Gaussian Mixture       0.86       0.64      0.85     0.53   \n",
       "                   Threshold              0.91       0.63      0.89     0.59   \n",
       "EHRSQL             Logistic Regression    0.80       0.68      0.78     0.64   \n",
       "                   Gaussian Mixture       0.74       0.68      0.74     0.79   \n",
       "                   Threshold              0.69       0.47      0.67     0.71   \n",
       "\n",
       "                                           sigma  \n",
       "PAUQ XSP           Logistic Regression      0.01  \n",
       "                   Gaussian Mixture         0.06  \n",
       "                   Threshold                0.02  \n",
       "Template SSP split Logistic Regression      0.02  \n",
       "                   Gaussian Mixture         0.02  \n",
       "                   Threshold                0.02  \n",
       "TSL SSP split      Logistic Regression  \\le 0.01  \n",
       "                   Gaussian Mixture         0.05  \n",
       "                   Threshold            \\le 0.01  \n",
       "EHRSQL             Logistic Regression      0.02  \n",
       "                   Gaussian Mixture         0.02  \n",
       "                   Threshold                0.03  "
      ]
     },
     "execution_count": 299,
     "metadata": {},
     "output_type": "execute_result"
    }
   ],
   "source": [
    "split_for_method_metrics = dict()\n",
    "metrics_list = ['Recall', 'Precision', 'F_{\\beta}', 'AUC-ROC', 'sigma']\n",
    "method_list = ['LR', 'GM', 'TR']\n",
    "\n",
    "\n",
    "\n",
    "for split in data_constants.SPLITS_NAMES.values():\n",
    "    split_for_method_metrics[split] = {'Logistic Regression': {key: 0 for key in metrics_list}, \n",
    "                                        'Gaussian Mixture':{key: 0 for key in metrics_list}, \n",
    "                                        'Threshold':{key: 0 for key in metrics_list}}\n",
    "    for model_name in metrics_result_dict.keys():\n",
    "        for method in metrics_result_dict[model_name][split].keys():\n",
    "            \n",
    "            recall = metrics_result_dict[model_name][split][method]['recall']['mean']\n",
    "            precision = metrics_result_dict[model_name][split][method]['precision']['mean']\n",
    "            f1 = metrics_result_dict[model_name][split][method]['f_score']['mean']\n",
    "            auc = metrics_result_dict[model_name][split][method]['AUC-ROC']['mean']\n",
    "            f1_std = metrics_result_dict[model_name][split][method]['f_score']['std']\n",
    "            \n",
    "            split_for_method_metrics[split][method]['Recall'] += recall\n",
    "            split_for_method_metrics[split][method]['Precision'] += precision\n",
    "            split_for_method_metrics[split][method]['F_{\\beta}'] += f1\n",
    "            split_for_method_metrics[split][method]['AUC-ROC'] += auc\n",
    "            split_for_method_metrics[split][method]['sigma'] += f1_std\n",
    "            \n",
    "for split in data_constants.SPLITS_NAMES.values(): \n",
    "    for method in model_for_method_metrics[model_name]:\n",
    "        for metric in metrics_list:\n",
    "            metrics_score = round(split_for_method_metrics[split][method][metric] / len(model_name_list), 2)\n",
    "            split_for_method_metrics[split][method][metric] = metrics_score        \n",
    "        \n",
    "df = pd.concat({k: pd.DataFrame(v).T for k, v in split_for_method_metrics.items()}, axis=0)\n",
    "df = df[['Recall', 'Precision', 'F_{\\beta}', 'AUC-ROC', 'sigma']]\n",
    "\n",
    "df['sigma'] = df['sigma'].apply(lambda x: \"\\le 0.01\" if x == 0 else x)\n",
    "df"
   ]
  },
  {
   "cell_type": "markdown",
   "id": "06a6070a-af0d-4fc8-b6da-2ed2aae0eaef",
   "metadata": {
    "tags": []
   },
   "source": [
    "### ROC-CURVE for each method"
   ]
  },
  {
   "cell_type": "code",
   "execution_count": 534,
   "id": "074f45e2-515e-442b-8938-1115bdea1b8e",
   "metadata": {},
   "outputs": [
    {
     "data": {
      "image/png": "[encoded data removed]",
      "text/plain": [
       "<Figure size 1296x288 with 4 Axes>"
      ]
     },
     "metadata": {
      "image/png": {
       "height": 291,
       "width": 1070
      },
      "needs_background": "light"
     },
     "output_type": "display_data"
    }
   ],
   "source": [
    "TARGET_METHOD = \"Gaussian Mixture\"\n",
    "\n",
    "fig, axs = plt.subplots(1, len(splits), figsize=(18, 4))\n",
    "\n",
    "split_to_model_list = dict()\n",
    "\n",
    "for idx, split_name in enumerate(data_constants.SPLITS_NAMES.values()):\n",
    "    for model in metrics_result_dict.keys():\n",
    "        method_metrics = metrics_result_dict[model][split_name][TARGET_METHOD]\n",
    "        \n",
    "        auc = method_metrics['AUC-ROC']['mean']\n",
    "        fpr, tpr = method_metrics['FPR'], method_metrics['TPR']\n",
    "        \n",
    "        # how to invert AUC scores\n",
    "        if auc < 0.5:\n",
    "            # print(split_name, model)\n",
    "            auc = round(1 - auc, 2)\n",
    "            fpr = 1 - fpr\n",
    "            tpr = 1 - tpr\n",
    "        \n",
    "        axs[idx].plot(fpr, tpr, label=f\"{model} AUC={auc}\")\n",
    "        axs[idx].plot([0, 1], [0, 1], linestyle='--', color='black')\n",
    "        \n",
    "        axs[idx].set_title(split_name)\n",
    "        \n",
    "\n",
    "axs[0].set_ylabel('TPR')\n",
    "        \n",
    "for ax in axs:\n",
    "    ax.set_xlabel('FPR')\n",
    "    ax.legend(prop={'size': 8})\n",
    "    \n",
    "plt.show()\n",
    "\n",
    "fig.savefig(f'confidence estimation data/roc_curve_for_splits_for_{TARGET_METHOD}.png', dpi=300, bbox_inches='tight', transparent=True)"
   ]
  },
  {
   "cell_type": "code",
   "execution_count": null,
   "id": "51edcc62-1a44-4037-8b4f-431c1d4258c9",
   "metadata": {},
   "outputs": [],
   "source": []
  },
  {
   "cell_type": "code",
   "execution_count": null,
   "id": "70bc44df-01a6-4060-840e-42bc472b9920",
   "metadata": {},
   "outputs": [],
   "source": []
  },
  {
   "cell_type": "markdown",
   "id": "2d50b24a-2f7c-40f6-857b-4ff3f4c995be",
   "metadata": {},
   "source": [
    "### Final error detection table\n"
   ]
  },
  {
   "cell_type": "code",
   "execution_count": 482,
   "id": "497b796d-42aa-40ae-a714-92640a047f51",
   "metadata": {},
   "outputs": [],
   "source": [
    "def evaluate_results_from_confidence_estimate(predicted_matrix, gold_matrix):\n",
    "    seed_number = range(predicted_matrix.shape[1])\n",
    "    predicted_targets = []\n",
    "    score_list = []\n",
    "    exec_acc_list, found_errors_list, sample_lost_list,result_ex_acc_list = [], [], [],[]\n",
    "    \n",
    "    for i in seed_number:\n",
    "        predicted_list, gold_list = list(predicted_matrix[:, i]), list(gold_matrix[:, i])\n",
    "        evaluation_list = []\n",
    "\n",
    "        tp,fp,tn,fn = 0 ,0 ,0, 0\n",
    "        for pred, gold in zip(predicted_list, gold_list):\n",
    "            pred_exec_result = pred\n",
    "            gold_exec_result = gold\n",
    "            if pred_exec_result == 1 and gold_exec_result == 1:\n",
    "                tp += 1\n",
    "                # evaluation_list.append(1)\n",
    "            elif pred_exec_result == 1 and gold_exec_result == 0:\n",
    "                fp += 1\n",
    "                # evaluation_list.append(0)\n",
    "            elif pred_exec_result == 0 and gold_exec_result == 1:\n",
    "                fn += 1\n",
    "                # evaluation_list.append(0)\n",
    "            elif pred_exec_result == 0 and gold_exec_result == 0:\n",
    "                tn += 1\n",
    "                # evaluation_list.append(1)\n",
    "                \n",
    "        execution_accuracy = 1 - np.mean(gold_list)\n",
    "        found_errors = tp / (tp + fn)\n",
    "        samples_lost = fp / len(gold_list)\n",
    "        result_ex_accuracy = execution_accuracy - samples_lost# tn / len(gold_list)\n",
    "        \n",
    "        exec_acc_list.append(round(execution_accuracy, 3))\n",
    "        found_errors_list.append(round(found_errors, 3))\n",
    "        sample_lost_list.append(round(samples_lost, 3))\n",
    "        result_ex_acc_list.append(round(result_ex_accuracy, 3))\n",
    "    \n",
    "    \n",
    "    # print(result_ex_acc_list)\n",
    "    mean_ex = round(np.mean(exec_acc_list), 3)\n",
    "    mean_found_errors = round(np.mean(found_errors_list), 3)\n",
    "    mean_lost_samples = round(np.mean(sample_lost_list), 3)\n",
    "    mean_result_ex = round(np.mean(result_ex_acc_list), 3)\n",
    "    std_result_ex = round(np.std(result_ex_acc_list), 3)\n",
    "    \n",
    "    \n",
    "    return {\"EX\": mean_ex, \"Found errors\": mean_found_errors, \"Traffic lost\": mean_lost_samples, \"Result EX\": mean_result_ex, 'Result EX std': std_result_ex}\n",
    "        \n",
    "        \n"
   ]
  },
  {
   "cell_type": "code",
   "execution_count": 483,
   "id": "457ba936-e6b1-4ad9-b4d6-3923f12f8d72",
   "metadata": {
    "tags": []
   },
   "outputs": [
    {
     "name": "stdout",
     "output_type": "stream",
     "text": [
      "T5-large PAUQ XSP\n"
     ]
    },
    {
     "name": "stderr",
     "output_type": "stream",
     "text": [
      "100%|███████████████████████████████████| 1076/1076 [00:00<00:00, 804325.63it/s]\n",
      "100%|███████████████████████████████████| 1076/1076 [00:00<00:00, 894385.87it/s]\n",
      "100%|███████████████████████████████████| 1076/1076 [00:00<00:00, 928424.42it/s]"
     ]
    },
    {
     "name": "stdout",
     "output_type": "stream",
     "text": [
      "(1076, 3) (1076, 3)\n",
      "T5-large Template SSP split\n"
     ]
    },
    {
     "name": "stderr",
     "output_type": "stream",
     "text": [
      "\n",
      "100%|████████████████████████████████████| 986/986 [00:00<00:00, 1056883.14it/s]\n",
      "100%|████████████████████████████████████| 986/986 [00:00<00:00, 1061767.33it/s]\n",
      "100%|████████████████████████████████████| 986/986 [00:00<00:00, 1083748.36it/s]\n"
     ]
    },
    {
     "name": "stdout",
     "output_type": "stream",
     "text": [
      "(986, 3) (986, 3)\n",
      "T5-large TSL SSP split\n"
     ]
    },
    {
     "name": "stderr",
     "output_type": "stream",
     "text": [
      "100%|█████████████████████████████████████| 986/986 [00:00<00:00, 850768.10it/s]\n",
      "100%|█████████████████████████████████████| 986/986 [00:00<00:00, 706816.57it/s]\n",
      "100%|█████████████████████████████████████| 986/986 [00:00<00:00, 505140.31it/s]\n"
     ]
    },
    {
     "name": "stdout",
     "output_type": "stream",
     "text": [
      "(986, 3) (986, 3)\n",
      "T5-large EHRSQL\n"
     ]
    },
    {
     "name": "stderr",
     "output_type": "stream",
     "text": [
      "100%|███████████████████████████████████| 1167/1167 [00:00<00:00, 556285.12it/s]\n",
      "100%|███████████████████████████████████| 1167/1167 [00:00<00:00, 598746.52it/s]\n",
      "100%|███████████████████████████████████| 1167/1167 [00:00<00:00, 404525.02it/s]\n"
     ]
    },
    {
     "name": "stdout",
     "output_type": "stream",
     "text": [
      "(1167, 3) (1167, 3)\n",
      "T5-3B PAUQ XSP\n"
     ]
    },
    {
     "name": "stderr",
     "output_type": "stream",
     "text": [
      "100%|███████████████████████████████████| 1076/1076 [00:00<00:00, 957579.27it/s]\n",
      "100%|██████████████████████████████████| 1076/1076 [00:00<00:00, 1002904.69it/s]\n",
      "100%|██████████████████████████████████| 1076/1076 [00:00<00:00, 1025697.98it/s]\n"
     ]
    },
    {
     "name": "stdout",
     "output_type": "stream",
     "text": [
      "(1076, 3) (1076, 3)\n",
      "T5-3B Template SSP split\n"
     ]
    },
    {
     "name": "stderr",
     "output_type": "stream",
     "text": [
      "100%|█████████████████████████████████████| 986/986 [00:00<00:00, 961987.38it/s]\n",
      "100%|████████████████████████████████████| 986/986 [00:00<00:00, 1015365.52it/s]\n",
      "100%|████████████████████████████████████| 986/986 [00:00<00:00, 1005979.99it/s]\n"
     ]
    },
    {
     "name": "stdout",
     "output_type": "stream",
     "text": [
      "(986, 3) (986, 3)\n",
      "T5-3B TSL SSP split\n"
     ]
    },
    {
     "name": "stderr",
     "output_type": "stream",
     "text": [
      "100%|█████████████████████████████████████| 986/986 [00:00<00:00, 768695.86it/s]\n",
      "100%|█████████████████████████████████████| 986/986 [00:00<00:00, 729765.97it/s]\n",
      "100%|█████████████████████████████████████| 986/986 [00:00<00:00, 788180.63it/s]\n"
     ]
    },
    {
     "name": "stdout",
     "output_type": "stream",
     "text": [
      "(986, 3) (986, 3)\n",
      "T5-3B EHRSQL\n"
     ]
    },
    {
     "name": "stderr",
     "output_type": "stream",
     "text": [
      "100%|███████████████████████████████████| 1167/1167 [00:00<00:00, 506913.09it/s]\n",
      "100%|███████████████████████████████████| 1167/1167 [00:00<00:00, 580359.59it/s]\n",
      "100%|███████████████████████████████████| 1167/1167 [00:00<00:00, 582569.96it/s]"
     ]
    },
    {
     "name": "stdout",
     "output_type": "stream",
     "text": [
      "(1167, 3) (1167, 3)\n"
     ]
    },
    {
     "name": "stderr",
     "output_type": "stream",
     "text": [
      "\n"
     ]
    },
    {
     "name": "stdout",
     "output_type": "stream",
     "text": [
      "DIAL-SQL PAUQ XSP\n"
     ]
    },
    {
     "name": "stderr",
     "output_type": "stream",
     "text": [
      "100%|███████████████████████████████████| 1076/1076 [00:00<00:00, 684836.28it/s]"
     ]
    },
    {
     "name": "stdout",
     "output_type": "stream",
     "text": [
      "(1076, 1) (1076, 1)\n"
     ]
    },
    {
     "name": "stderr",
     "output_type": "stream",
     "text": [
      "\n"
     ]
    },
    {
     "name": "stdout",
     "output_type": "stream",
     "text": [
      "DIAL-SQL Template SSP split\n"
     ]
    },
    {
     "name": "stderr",
     "output_type": "stream",
     "text": [
      "100%|█████████████████████████████████████| 986/986 [00:00<00:00, 912328.20it/s]"
     ]
    },
    {
     "name": "stdout",
     "output_type": "stream",
     "text": [
      "(986, 1) (986, 1)\n",
      "DIAL-SQL TSL SSP split\n"
     ]
    },
    {
     "name": "stderr",
     "output_type": "stream",
     "text": [
      "\n",
      "100%|█████████████████████████████████████| 986/986 [00:00<00:00, 886703.20it/s]\n"
     ]
    },
    {
     "name": "stdout",
     "output_type": "stream",
     "text": [
      "(986, 1) (986, 1)\n",
      "DIAL-SQL EHRSQL\n"
     ]
    },
    {
     "name": "stderr",
     "output_type": "stream",
     "text": [
      "100%|███████████████████████████████████| 1167/1167 [00:00<00:00, 458181.48it/s]\n"
     ]
    },
    {
     "name": "stdout",
     "output_type": "stream",
     "text": [
      "(1167, 1) (1167, 1)\n",
      "Llama3-8B LoRA PAUQ XSP\n"
     ]
    },
    {
     "name": "stderr",
     "output_type": "stream",
     "text": [
      "100%|███████████████████████████████████| 1076/1076 [00:00<00:00, 943762.26it/s]\n",
      "100%|███████████████████████████████████| 1076/1076 [00:00<00:00, 647035.28it/s]\n",
      "100%|███████████████████████████████████| 1076/1076 [00:00<00:00, 835908.71it/s]\n"
     ]
    },
    {
     "name": "stdout",
     "output_type": "stream",
     "text": [
      "(1076, 3) (1076, 3)\n",
      "Llama3-8B LoRA Template SSP split\n"
     ]
    },
    {
     "name": "stderr",
     "output_type": "stream",
     "text": [
      "100%|█████████████████████████████████████| 986/986 [00:00<00:00, 798375.24it/s]\n",
      "100%|█████████████████████████████████████| 986/986 [00:00<00:00, 806313.85it/s]\n",
      "100%|█████████████████████████████████████| 986/986 [00:00<00:00, 853049.45it/s]\n"
     ]
    },
    {
     "name": "stdout",
     "output_type": "stream",
     "text": [
      "(986, 3) (986, 3)\n",
      "Llama3-8B LoRA TSL SSP split\n"
     ]
    },
    {
     "name": "stderr",
     "output_type": "stream",
     "text": [
      "100%|█████████████████████████████████████| 986/986 [00:00<00:00, 783106.18it/s]\n",
      "100%|█████████████████████████████████████| 986/986 [00:00<00:00, 575505.67it/s]\n",
      "100%|█████████████████████████████████████| 986/986 [00:00<00:00, 579294.54it/s]\n"
     ]
    },
    {
     "name": "stdout",
     "output_type": "stream",
     "text": [
      "(986, 3) (986, 3)\n",
      "Llama3-8B LoRA EHRSQL\n"
     ]
    },
    {
     "name": "stderr",
     "output_type": "stream",
     "text": [
      "100%|███████████████████████████████████| 1167/1167 [00:00<00:00, 515182.90it/s]\n",
      "100%|███████████████████████████████████| 1167/1167 [00:00<00:00, 498752.07it/s]\n",
      "100%|███████████████████████████████████| 1167/1167 [00:00<00:00, 413094.17it/s]"
     ]
    },
    {
     "name": "stdout",
     "output_type": "stream",
     "text": [
      "(1167, 3) (1167, 3)\n"
     ]
    },
    {
     "name": "stderr",
     "output_type": "stream",
     "text": [
      "\n"
     ]
    },
    {
     "name": "stdout",
     "output_type": "stream",
     "text": [
      "Llama3-8B SFT PAUQ XSP\n"
     ]
    },
    {
     "name": "stderr",
     "output_type": "stream",
     "text": [
      "100%|███████████████████████████████████| 1076/1076 [00:00<00:00, 867731.42it/s]\n",
      "100%|███████████████████████████████████| 1076/1076 [00:00<00:00, 914317.48it/s]\n",
      "100%|███████████████████████████████████| 1076/1076 [00:00<00:00, 909709.96it/s]\n"
     ]
    },
    {
     "name": "stdout",
     "output_type": "stream",
     "text": [
      "(1076, 3) (1076, 3)\n",
      "Llama3-8B SFT Template SSP split\n"
     ]
    },
    {
     "name": "stderr",
     "output_type": "stream",
     "text": [
      "100%|█████████████████████████████████████| 986/986 [00:00<00:00, 896312.04it/s]\n",
      "100%|█████████████████████████████████████| 986/986 [00:00<00:00, 868637.63it/s]\n",
      "100%|█████████████████████████████████████| 986/986 [00:00<00:00, 895341.79it/s]\n"
     ]
    },
    {
     "name": "stdout",
     "output_type": "stream",
     "text": [
      "(986, 3) (986, 3)\n",
      "Llama3-8B SFT TSL SSP split\n"
     ]
    },
    {
     "name": "stderr",
     "output_type": "stream",
     "text": [
      "100%|█████████████████████████████████████| 986/986 [00:00<00:00, 813610.81it/s]\n",
      "100%|█████████████████████████████████████| 986/986 [00:00<00:00, 760776.99it/s]\n",
      "100%|█████████████████████████████████████| 986/986 [00:00<00:00, 620492.68it/s]\n"
     ]
    },
    {
     "name": "stdout",
     "output_type": "stream",
     "text": [
      "(986, 3) (986, 3)\n",
      "Llama3-8B SFT EHRSQL\n"
     ]
    },
    {
     "name": "stderr",
     "output_type": "stream",
     "text": [
      "100%|███████████████████████████████████| 1167/1167 [00:00<00:00, 547389.04it/s]\n",
      "100%|███████████████████████████████████| 1167/1167 [00:00<00:00, 518676.78it/s]\n",
      "100%|███████████████████████████████████| 1167/1167 [00:00<00:00, 489328.48it/s]\n"
     ]
    },
    {
     "name": "stdout",
     "output_type": "stream",
     "text": [
      "(1167, 3) (1167, 3)\n"
     ]
    }
   ],
   "source": [
    "for model_name in model_name_list:\n",
    "    off_model_name = data_constants.MODEL_NAMES[model_name]\n",
    "    metrics_result_dict[off_model_name] = dict()\n",
    "    for split_name in splits:\n",
    "        off_split_name = data_constants.SPLITS_NAMES[split_name]\n",
    "        print(off_model_name, off_split_name)\n",
    "        scores, targets = support_functions.make_numpy_arrays(split_name, model_name, data_constants.SEED_LIST,\n",
    "                                                              data_constants.SPLITS_PREDICTIONS_PATH, \n",
    "                                                              data_constants.GOLD_TEST_SPLIT_PATH)\n",
    "        if scores is not None:\n",
    "            dev_sc, dev_tr, test_sc, test_tr = support_functions.create_split(scores, targets)\n",
    "            predicted_targets, _ = score_by_gmm(dev_sc, dev_tr, test_sc, test_tr)\n",
    "\n",
    "            lr_penalized_results = evaluate_results_from_confidence_estimate(predicted_targets, test_tr)\n",
    "            \n",
    "            metrics_result_dict[off_model_name][off_split_name] = lr_penalized_results"
   ]
  },
  {
   "cell_type": "code",
   "execution_count": 484,
   "id": "d424a504-10ce-4baf-883c-35ada58e6474",
   "metadata": {
    "tags": []
   },
   "outputs": [
    {
     "name": "stdout",
     "output_type": "stream",
     "text": [
      "Found errors:  0.7984000000000001\n",
      "Traffic lost:  0.36365\n",
      "Result EX:  0.25065000000000004\n"
     ]
    },
    {
     "data": {
      "text/html": [
       "<div>\n",
       "<style scoped>\n",
       "    .dataframe tbody tr th:only-of-type {\n",
       "        vertical-align: middle;\n",
       "    }\n",
       "\n",
       "    .dataframe tbody tr th {\n",
       "        vertical-align: top;\n",
       "    }\n",
       "\n",
       "    .dataframe thead th {\n",
       "        text-align: right;\n",
       "    }\n",
       "</style>\n",
       "<table border=\"1\" class=\"dataframe\">\n",
       "  <thead>\n",
       "    <tr style=\"text-align: right;\">\n",
       "      <th></th>\n",
       "      <th></th>\n",
       "      <th>EX</th>\n",
       "      <th>Found errors</th>\n",
       "      <th>Traffic lost</th>\n",
       "      <th>Result EX</th>\n",
       "      <th>Result EX std</th>\n",
       "    </tr>\n",
       "  </thead>\n",
       "  <tbody>\n",
       "    <tr>\n",
       "      <th rowspan=\"4\" valign=\"top\">T5-large</th>\n",
       "      <th>PAUQ XSP</th>\n",
       "      <td>0.634</td>\n",
       "      <td>0.795</td>\n",
       "      <td>0.218</td>\n",
       "      <td>0.415</td>\n",
       "      <td>0.097</td>\n",
       "    </tr>\n",
       "    <tr>\n",
       "      <th>Template SSP split</th>\n",
       "      <td>0.690</td>\n",
       "      <td>0.624</td>\n",
       "      <td>0.461</td>\n",
       "      <td>0.229</td>\n",
       "      <td>0.24</td>\n",
       "    </tr>\n",
       "    <tr>\n",
       "      <th>TSL SSP split</th>\n",
       "      <td>0.243</td>\n",
       "      <td>0.828</td>\n",
       "      <td>0.201</td>\n",
       "      <td>0.043</td>\n",
       "      <td>0.016</td>\n",
       "    </tr>\n",
       "    <tr>\n",
       "      <th>EHRSQL</th>\n",
       "      <td>0.687</td>\n",
       "      <td>0.705</td>\n",
       "      <td>0.034</td>\n",
       "      <td>0.654</td>\n",
       "      <td>0.007</td>\n",
       "    </tr>\n",
       "    <tr>\n",
       "      <th rowspan=\"4\" valign=\"top\">T5-3B</th>\n",
       "      <th>PAUQ XSP</th>\n",
       "      <td>0.709</td>\n",
       "      <td>0.816</td>\n",
       "      <td>0.444</td>\n",
       "      <td>0.265</td>\n",
       "      <td>0.157</td>\n",
       "    </tr>\n",
       "    <tr>\n",
       "      <th>Template SSP split</th>\n",
       "      <td>0.738</td>\n",
       "      <td>0.608</td>\n",
       "      <td>0.335</td>\n",
       "      <td>0.404</td>\n",
       "      <td>0.228</td>\n",
       "    </tr>\n",
       "    <tr>\n",
       "      <th>TSL SSP split</th>\n",
       "      <td>0.282</td>\n",
       "      <td>0.852</td>\n",
       "      <td>0.170</td>\n",
       "      <td>0.112</td>\n",
       "      <td>0.021</td>\n",
       "    </tr>\n",
       "    <tr>\n",
       "      <th>EHRSQL</th>\n",
       "      <td>0.712</td>\n",
       "      <td>0.919</td>\n",
       "      <td>0.086</td>\n",
       "      <td>0.626</td>\n",
       "      <td>0.027</td>\n",
       "    </tr>\n",
       "    <tr>\n",
       "      <th rowspan=\"4\" valign=\"top\">DIAL-SQL</th>\n",
       "      <th>PAUQ XSP</th>\n",
       "      <td>0.765</td>\n",
       "      <td>0.982</td>\n",
       "      <td>0.577</td>\n",
       "      <td>0.188</td>\n",
       "      <td>\\le 0.01</td>\n",
       "    </tr>\n",
       "    <tr>\n",
       "      <th>Template SSP split</th>\n",
       "      <td>0.860</td>\n",
       "      <td>0.868</td>\n",
       "      <td>0.846</td>\n",
       "      <td>0.014</td>\n",
       "      <td>\\le 0.01</td>\n",
       "    </tr>\n",
       "    <tr>\n",
       "      <th>TSL SSP split</th>\n",
       "      <td>0.664</td>\n",
       "      <td>0.854</td>\n",
       "      <td>0.636</td>\n",
       "      <td>0.028</td>\n",
       "      <td>\\le 0.01</td>\n",
       "    </tr>\n",
       "    <tr>\n",
       "      <th>EHRSQL</th>\n",
       "      <td>0.542</td>\n",
       "      <td>0.793</td>\n",
       "      <td>0.105</td>\n",
       "      <td>0.437</td>\n",
       "      <td>\\le 0.01</td>\n",
       "    </tr>\n",
       "    <tr>\n",
       "      <th rowspan=\"4\" valign=\"top\">Llama3-8B LoRA</th>\n",
       "      <th>PAUQ XSP</th>\n",
       "      <td>0.717</td>\n",
       "      <td>0.660</td>\n",
       "      <td>0.373</td>\n",
       "      <td>0.344</td>\n",
       "      <td>0.068</td>\n",
       "    </tr>\n",
       "    <tr>\n",
       "      <th>Template SSP split</th>\n",
       "      <td>0.673</td>\n",
       "      <td>0.958</td>\n",
       "      <td>0.673</td>\n",
       "      <td>0.000</td>\n",
       "      <td>\\le 0.01</td>\n",
       "    </tr>\n",
       "    <tr>\n",
       "      <th>TSL SSP split</th>\n",
       "      <td>0.296</td>\n",
       "      <td>0.929</td>\n",
       "      <td>0.265</td>\n",
       "      <td>0.032</td>\n",
       "      <td>0.026</td>\n",
       "    </tr>\n",
       "    <tr>\n",
       "      <th>EHRSQL</th>\n",
       "      <td>0.643</td>\n",
       "      <td>0.546</td>\n",
       "      <td>0.403</td>\n",
       "      <td>0.239</td>\n",
       "      <td>0.202</td>\n",
       "    </tr>\n",
       "    <tr>\n",
       "      <th rowspan=\"4\" valign=\"top\">Llama3-8B SFT</th>\n",
       "      <th>PAUQ XSP</th>\n",
       "      <td>0.731</td>\n",
       "      <td>0.756</td>\n",
       "      <td>0.449</td>\n",
       "      <td>0.282</td>\n",
       "      <td>0.002</td>\n",
       "    </tr>\n",
       "    <tr>\n",
       "      <th>Template SSP split</th>\n",
       "      <td>0.697</td>\n",
       "      <td>0.907</td>\n",
       "      <td>0.524</td>\n",
       "      <td>0.173</td>\n",
       "      <td>0.009</td>\n",
       "    </tr>\n",
       "    <tr>\n",
       "      <th>TSL SSP split</th>\n",
       "      <td>0.361</td>\n",
       "      <td>0.880</td>\n",
       "      <td>0.342</td>\n",
       "      <td>0.019</td>\n",
       "      <td>0.016</td>\n",
       "    </tr>\n",
       "    <tr>\n",
       "      <th>EHRSQL</th>\n",
       "      <td>0.640</td>\n",
       "      <td>0.688</td>\n",
       "      <td>0.131</td>\n",
       "      <td>0.509</td>\n",
       "      <td>0.042</td>\n",
       "    </tr>\n",
       "  </tbody>\n",
       "</table>\n",
       "</div>"
      ],
      "text/plain": [
       "                                      EX  Found errors  Traffic lost  \\\n",
       "T5-large       PAUQ XSP            0.634         0.795         0.218   \n",
       "               Template SSP split  0.690         0.624         0.461   \n",
       "               TSL SSP split       0.243         0.828         0.201   \n",
       "               EHRSQL              0.687         0.705         0.034   \n",
       "T5-3B          PAUQ XSP            0.709         0.816         0.444   \n",
       "               Template SSP split  0.738         0.608         0.335   \n",
       "               TSL SSP split       0.282         0.852         0.170   \n",
       "               EHRSQL              0.712         0.919         0.086   \n",
       "DIAL-SQL       PAUQ XSP            0.765         0.982         0.577   \n",
       "               Template SSP split  0.860         0.868         0.846   \n",
       "               TSL SSP split       0.664         0.854         0.636   \n",
       "               EHRSQL              0.542         0.793         0.105   \n",
       "Llama3-8B LoRA PAUQ XSP            0.717         0.660         0.373   \n",
       "               Template SSP split  0.673         0.958         0.673   \n",
       "               TSL SSP split       0.296         0.929         0.265   \n",
       "               EHRSQL              0.643         0.546         0.403   \n",
       "Llama3-8B SFT  PAUQ XSP            0.731         0.756         0.449   \n",
       "               Template SSP split  0.697         0.907         0.524   \n",
       "               TSL SSP split       0.361         0.880         0.342   \n",
       "               EHRSQL              0.640         0.688         0.131   \n",
       "\n",
       "                                   Result EX Result EX std  \n",
       "T5-large       PAUQ XSP                0.415         0.097  \n",
       "               Template SSP split      0.229          0.24  \n",
       "               TSL SSP split           0.043         0.016  \n",
       "               EHRSQL                  0.654         0.007  \n",
       "T5-3B          PAUQ XSP                0.265         0.157  \n",
       "               Template SSP split      0.404         0.228  \n",
       "               TSL SSP split           0.112         0.021  \n",
       "               EHRSQL                  0.626         0.027  \n",
       "DIAL-SQL       PAUQ XSP                0.188      \\le 0.01  \n",
       "               Template SSP split      0.014      \\le 0.01  \n",
       "               TSL SSP split           0.028      \\le 0.01  \n",
       "               EHRSQL                  0.437      \\le 0.01  \n",
       "Llama3-8B LoRA PAUQ XSP                0.344         0.068  \n",
       "               Template SSP split      0.000      \\le 0.01  \n",
       "               TSL SSP split           0.032         0.026  \n",
       "               EHRSQL                  0.239         0.202  \n",
       "Llama3-8B SFT  PAUQ XSP                0.282         0.002  \n",
       "               Template SSP split      0.173         0.009  \n",
       "               TSL SSP split           0.019         0.016  \n",
       "               EHRSQL                  0.509         0.042  "
      ]
     },
     "execution_count": 484,
     "metadata": {},
     "output_type": "execute_result"
    }
   ],
   "source": [
    "gmm_df = pd.concat({k: pd.DataFrame(v).T for k, v in metrics_result_dict.items()}, axis=0)\n",
    "\n",
    "\n",
    "gmm_df['Result EX std'] = gmm_df['Result EX std'].apply(lambda x: \"\\le 0.01\" if x == 0 else x)\n",
    "\n",
    "print('Found errors: ', gmm_df['Found errors'].mean())\n",
    "print('Traffic lost: ', gmm_df['Traffic lost'].mean())\n",
    "print('Result EX: ', gmm_df['Result EX'].mean())\n",
    "\n",
    "\n",
    "gmm_df"
   ]
  },
  {
   "cell_type": "code",
   "execution_count": 485,
   "id": "210f9735-88bd-4084-aab2-4af57525f035",
   "metadata": {},
   "outputs": [
    {
     "name": "stdout",
     "output_type": "stream",
     "text": [
      "T5-large PAUQ XSP\n"
     ]
    },
    {
     "name": "stderr",
     "output_type": "stream",
     "text": [
      "100%|███████████████████████████████████| 1076/1076 [00:00<00:00, 591257.84it/s]\n",
      "100%|███████████████████████████████████| 1076/1076 [00:00<00:00, 158026.23it/s]\n",
      "100%|███████████████████████████████████| 1076/1076 [00:00<00:00, 478231.55it/s]"
     ]
    },
    {
     "name": "stdout",
     "output_type": "stream",
     "text": [
      "(1076, 3) (1076, 3)\n"
     ]
    },
    {
     "name": "stderr",
     "output_type": "stream",
     "text": [
      "\n"
     ]
    },
    {
     "name": "stdout",
     "output_type": "stream",
     "text": [
      "T5-large Template SSP split\n"
     ]
    },
    {
     "name": "stderr",
     "output_type": "stream",
     "text": [
      "100%|██████████████████████████████████████| 986/986 [00:00<00:00, 84310.20it/s]\n",
      "100%|█████████████████████████████████████| 986/986 [00:00<00:00, 145901.70it/s]\n",
      "100%|█████████████████████████████████████| 986/986 [00:00<00:00, 839712.44it/s]"
     ]
    },
    {
     "name": "stdout",
     "output_type": "stream",
     "text": [
      "(986, 3) (986, 3)\n",
      "T5-large TSL SSP split\n"
     ]
    },
    {
     "name": "stderr",
     "output_type": "stream",
     "text": [
      "\n",
      "100%|█████████████████████████████████████| 986/986 [00:00<00:00, 816824.76it/s]\n",
      "100%|█████████████████████████████████████| 986/986 [00:00<00:00, 825136.42it/s]\n",
      "100%|█████████████████████████████████████| 986/986 [00:00<00:00, 871934.16it/s]\n"
     ]
    },
    {
     "name": "stdout",
     "output_type": "stream",
     "text": [
      "(986, 3) (986, 3)\n",
      "T5-large EHRSQL\n"
     ]
    },
    {
     "name": "stderr",
     "output_type": "stream",
     "text": [
      "100%|███████████████████████████████████| 1167/1167 [00:00<00:00, 501717.18it/s]\n",
      "100%|███████████████████████████████████| 1167/1167 [00:00<00:00, 450423.55it/s]\n",
      "100%|███████████████████████████████████| 1167/1167 [00:00<00:00, 426557.98it/s]\n"
     ]
    },
    {
     "name": "stdout",
     "output_type": "stream",
     "text": [
      "(1167, 3) (1167, 3)\n",
      "T5-3B PAUQ XSP\n"
     ]
    },
    {
     "name": "stderr",
     "output_type": "stream",
     "text": [
      "100%|███████████████████████████████████| 1076/1076 [00:00<00:00, 948722.12it/s]\n",
      "100%|██████████████████████████████████| 1076/1076 [00:00<00:00, 1012126.28it/s]\n",
      "100%|███████████████████████████████████| 1076/1076 [00:00<00:00, 667416.61it/s]\n"
     ]
    },
    {
     "name": "stdout",
     "output_type": "stream",
     "text": [
      "(1076, 3) (1076, 3)\n",
      "T5-3B Template SSP split\n"
     ]
    },
    {
     "name": "stderr",
     "output_type": "stream",
     "text": [
      "100%|████████████████████████████████████| 986/986 [00:00<00:00, 1011145.17it/s]\n",
      "100%|████████████████████████████████████| 986/986 [00:00<00:00, 1017363.77it/s]\n",
      "100%|█████████████████████████████████████| 986/986 [00:00<00:00, 674866.80it/s]\n"
     ]
    },
    {
     "name": "stdout",
     "output_type": "stream",
     "text": [
      "(986, 3) (986, 3)\n",
      "T5-3B TSL SSP split\n"
     ]
    },
    {
     "name": "stderr",
     "output_type": "stream",
     "text": [
      "100%|█████████████████████████████████████| 986/986 [00:00<00:00, 830605.29it/s]\n",
      "100%|█████████████████████████████████████| 986/986 [00:00<00:00, 881975.63it/s]\n",
      "100%|█████████████████████████████████████| 986/986 [00:00<00:00, 871750.37it/s]\n"
     ]
    },
    {
     "name": "stdout",
     "output_type": "stream",
     "text": [
      "(986, 3) (986, 3)\n",
      "T5-3B EHRSQL\n"
     ]
    },
    {
     "name": "stderr",
     "output_type": "stream",
     "text": [
      "100%|███████████████████████████████████| 1167/1167 [00:00<00:00, 553141.91it/s]\n",
      "100%|███████████████████████████████████| 1167/1167 [00:00<00:00, 491391.70it/s]\n",
      "100%|███████████████████████████████████| 1167/1167 [00:00<00:00, 564041.57it/s]\n"
     ]
    },
    {
     "name": "stdout",
     "output_type": "stream",
     "text": [
      "(1167, 3) (1167, 3)\n",
      "DIAL-SQL PAUQ XSP\n"
     ]
    },
    {
     "name": "stderr",
     "output_type": "stream",
     "text": [
      "100%|███████████████████████████████████| 1076/1076 [00:00<00:00, 936516.10it/s]\n"
     ]
    },
    {
     "name": "stdout",
     "output_type": "stream",
     "text": [
      "(1076, 1) (1076, 1)\n",
      "DIAL-SQL Template SSP split\n"
     ]
    },
    {
     "name": "stderr",
     "output_type": "stream",
     "text": [
      "100%|█████████████████████████████████████| 986/986 [00:00<00:00, 818927.47it/s]\n"
     ]
    },
    {
     "name": "stdout",
     "output_type": "stream",
     "text": [
      "(986, 1) (986, 1)\n",
      "DIAL-SQL TSL SSP split\n"
     ]
    },
    {
     "name": "stderr",
     "output_type": "stream",
     "text": [
      "100%|█████████████████████████████████████| 986/986 [00:00<00:00, 724905.13it/s]\n"
     ]
    },
    {
     "name": "stdout",
     "output_type": "stream",
     "text": [
      "(986, 1) (986, 1)\n",
      "DIAL-SQL EHRSQL\n"
     ]
    },
    {
     "name": "stderr",
     "output_type": "stream",
     "text": [
      "100%|███████████████████████████████████| 1167/1167 [00:00<00:00, 509180.56it/s]\n"
     ]
    },
    {
     "name": "stdout",
     "output_type": "stream",
     "text": [
      "(1167, 1) (1167, 1)\n",
      "Llama3-8B LoRA PAUQ XSP\n"
     ]
    },
    {
     "name": "stderr",
     "output_type": "stream",
     "text": [
      "100%|███████████████████████████████████| 1076/1076 [00:00<00:00, 768705.69it/s]\n",
      "100%|███████████████████████████████████| 1076/1076 [00:00<00:00, 608640.74it/s]\n",
      "100%|███████████████████████████████████| 1076/1076 [00:00<00:00, 681012.69it/s]\n"
     ]
    },
    {
     "name": "stdout",
     "output_type": "stream",
     "text": [
      "(1076, 3) (1076, 3)\n",
      "Llama3-8B LoRA Template SSP split\n"
     ]
    },
    {
     "name": "stderr",
     "output_type": "stream",
     "text": [
      "100%|█████████████████████████████████████| 986/986 [00:00<00:00, 942690.62it/s]\n",
      "100%|█████████████████████████████████████| 986/986 [00:00<00:00, 979996.15it/s]\n",
      "100%|█████████████████████████████████████| 986/986 [00:00<00:00, 976064.14it/s]\n"
     ]
    },
    {
     "name": "stdout",
     "output_type": "stream",
     "text": [
      "(986, 3) (986, 3)\n",
      "Llama3-8B LoRA TSL SSP split\n"
     ]
    },
    {
     "name": "stderr",
     "output_type": "stream",
     "text": [
      "100%|█████████████████████████████████████| 986/986 [00:00<00:00, 751514.40it/s]\n",
      "100%|█████████████████████████████████████| 986/986 [00:00<00:00, 836823.91it/s]\n",
      "100%|█████████████████████████████████████| 986/986 [00:00<00:00, 509245.63it/s]\n"
     ]
    },
    {
     "name": "stdout",
     "output_type": "stream",
     "text": [
      "(986, 3) (986, 3)\n",
      "Llama3-8B LoRA EHRSQL\n"
     ]
    },
    {
     "name": "stderr",
     "output_type": "stream",
     "text": [
      "100%|███████████████████████████████████| 1167/1167 [00:00<00:00, 486265.92it/s]\n",
      "100%|███████████████████████████████████| 1167/1167 [00:00<00:00, 506755.64it/s]\n",
      "100%|███████████████████████████████████| 1167/1167 [00:00<00:00, 562938.79it/s]\n"
     ]
    },
    {
     "name": "stdout",
     "output_type": "stream",
     "text": [
      "(1167, 3) (1167, 3)\n",
      "Llama3-8B SFT PAUQ XSP\n"
     ]
    },
    {
     "name": "stderr",
     "output_type": "stream",
     "text": [
      "100%|███████████████████████████████████| 1076/1076 [00:00<00:00, 980889.18it/s]\n",
      "100%|███████████████████████████████████| 1076/1076 [00:00<00:00, 810974.14it/s]\n",
      "100%|███████████████████████████████████| 1076/1076 [00:00<00:00, 629174.84it/s]\n"
     ]
    },
    {
     "name": "stdout",
     "output_type": "stream",
     "text": [
      "(1076, 3) (1076, 3)\n",
      "Llama3-8B SFT Template SSP split\n"
     ]
    },
    {
     "name": "stderr",
     "output_type": "stream",
     "text": [
      "100%|█████████████████████████████████████| 986/986 [00:00<00:00, 768124.77it/s]\n",
      "100%|█████████████████████████████████████| 986/986 [00:00<00:00, 819576.64it/s]\n",
      "100%|█████████████████████████████████████| 986/986 [00:00<00:00, 880848.51it/s]\n"
     ]
    },
    {
     "name": "stdout",
     "output_type": "stream",
     "text": [
      "(986, 3) (986, 3)\n",
      "Llama3-8B SFT TSL SSP split\n"
     ]
    },
    {
     "name": "stderr",
     "output_type": "stream",
     "text": [
      "100%|█████████████████████████████████████| 986/986 [00:00<00:00, 727711.37it/s]\n",
      "100%|█████████████████████████████████████| 986/986 [00:00<00:00, 653021.28it/s]\n",
      "100%|█████████████████████████████████████| 986/986 [00:00<00:00, 723383.55it/s]\n"
     ]
    },
    {
     "name": "stdout",
     "output_type": "stream",
     "text": [
      "(986, 3) (986, 3)\n",
      "Llama3-8B SFT EHRSQL\n"
     ]
    },
    {
     "name": "stderr",
     "output_type": "stream",
     "text": [
      "100%|███████████████████████████████████| 1167/1167 [00:00<00:00, 514154.70it/s]\n",
      "100%|███████████████████████████████████| 1167/1167 [00:00<00:00, 427788.22it/s]\n",
      "100%|███████████████████████████████████| 1167/1167 [00:00<00:00, 539842.59it/s]"
     ]
    },
    {
     "name": "stdout",
     "output_type": "stream",
     "text": [
      "(1167, 3) (1167, 3)\n"
     ]
    },
    {
     "name": "stderr",
     "output_type": "stream",
     "text": [
      "\n"
     ]
    }
   ],
   "source": [
    "for model_name in model_name_list:\n",
    "    off_model_name = data_constants.MODEL_NAMES[model_name]\n",
    "    metrics_result_dict[off_model_name] = dict()\n",
    "    for split_name in splits:\n",
    "        off_split_name = data_constants.SPLITS_NAMES[split_name]\n",
    "        print(off_model_name, off_split_name)\n",
    "        scores, targets = support_functions.make_numpy_arrays(split_name, model_name, data_constants.SEED_LIST,\n",
    "                                                              data_constants.SPLITS_PREDICTIONS_PATH, \n",
    "                                                              data_constants.GOLD_TEST_SPLIT_PATH)\n",
    "        if scores is not None:\n",
    "            dev_sc, dev_tr, test_sc, test_tr = support_functions.create_split(scores, targets)\n",
    "            predicted_targets, _ = score_by_logreg(dev_sc, dev_tr, test_sc, test_tr)\n",
    "\n",
    "            lr_penalized_results = evaluate_results_from_confidence_estimate(predicted_targets, test_tr)\n",
    "            \n",
    "            metrics_result_dict[off_model_name][off_split_name] = lr_penalized_results"
   ]
  },
  {
   "cell_type": "code",
   "execution_count": 487,
   "id": "30f304a2-3a80-41d9-98d6-74b595963b37",
   "metadata": {},
   "outputs": [
    {
     "name": "stdout",
     "output_type": "stream",
     "text": [
      "Found errors:  0.8725999999999999\n",
      "Traffic lost:  0.46895\n",
      "Result EX:  0.14534999999999998\n"
     ]
    },
    {
     "data": {
      "text/html": [
       "<div>\n",
       "<style scoped>\n",
       "    .dataframe tbody tr th:only-of-type {\n",
       "        vertical-align: middle;\n",
       "    }\n",
       "\n",
       "    .dataframe tbody tr th {\n",
       "        vertical-align: top;\n",
       "    }\n",
       "\n",
       "    .dataframe thead th {\n",
       "        text-align: right;\n",
       "    }\n",
       "</style>\n",
       "<table border=\"1\" class=\"dataframe\">\n",
       "  <thead>\n",
       "    <tr style=\"text-align: right;\">\n",
       "      <th></th>\n",
       "      <th></th>\n",
       "      <th>EX</th>\n",
       "      <th>Found errors</th>\n",
       "      <th>Traffic lost</th>\n",
       "      <th>Result EX</th>\n",
       "      <th>Result EX std</th>\n",
       "    </tr>\n",
       "  </thead>\n",
       "  <tbody>\n",
       "    <tr>\n",
       "      <th rowspan=\"4\" valign=\"top\">T5-large</th>\n",
       "      <th>PAUQ XSP</th>\n",
       "      <td>0.634</td>\n",
       "      <td>0.601</td>\n",
       "      <td>0.111</td>\n",
       "      <td>0.523</td>\n",
       "      <td>0.003</td>\n",
       "    </tr>\n",
       "    <tr>\n",
       "      <th>Template SSP split</th>\n",
       "      <td>0.690</td>\n",
       "      <td>0.698</td>\n",
       "      <td>0.644</td>\n",
       "      <td>0.046</td>\n",
       "      <td>0.008</td>\n",
       "    </tr>\n",
       "    <tr>\n",
       "      <th>TSL SSP split</th>\n",
       "      <td>0.243</td>\n",
       "      <td>1.000</td>\n",
       "      <td>0.243</td>\n",
       "      <td>0.000</td>\n",
       "      <td>&lt;0.01</td>\n",
       "    </tr>\n",
       "    <tr>\n",
       "      <th>EHRSQL</th>\n",
       "      <td>0.687</td>\n",
       "      <td>0.694</td>\n",
       "      <td>0.030</td>\n",
       "      <td>0.657</td>\n",
       "      <td>0.005</td>\n",
       "    </tr>\n",
       "    <tr>\n",
       "      <th rowspan=\"4\" valign=\"top\">T5-3B</th>\n",
       "      <th>PAUQ XSP</th>\n",
       "      <td>0.709</td>\n",
       "      <td>0.523</td>\n",
       "      <td>0.262</td>\n",
       "      <td>0.448</td>\n",
       "      <td>0.259</td>\n",
       "    </tr>\n",
       "    <tr>\n",
       "      <th>Template SSP split</th>\n",
       "      <td>0.738</td>\n",
       "      <td>0.885</td>\n",
       "      <td>0.718</td>\n",
       "      <td>0.020</td>\n",
       "      <td>0.008</td>\n",
       "    </tr>\n",
       "    <tr>\n",
       "      <th>TSL SSP split</th>\n",
       "      <td>0.282</td>\n",
       "      <td>1.000</td>\n",
       "      <td>0.282</td>\n",
       "      <td>0.000</td>\n",
       "      <td>&lt;0.01</td>\n",
       "    </tr>\n",
       "    <tr>\n",
       "      <th>EHRSQL</th>\n",
       "      <td>0.712</td>\n",
       "      <td>0.724</td>\n",
       "      <td>0.017</td>\n",
       "      <td>0.695</td>\n",
       "      <td>0.004</td>\n",
       "    </tr>\n",
       "    <tr>\n",
       "      <th rowspan=\"4\" valign=\"top\">DIAL-SQL</th>\n",
       "      <th>PAUQ XSP</th>\n",
       "      <td>0.765</td>\n",
       "      <td>0.958</td>\n",
       "      <td>0.759</td>\n",
       "      <td>0.006</td>\n",
       "      <td>&lt;0.01</td>\n",
       "    </tr>\n",
       "    <tr>\n",
       "      <th>Template SSP split</th>\n",
       "      <td>0.860</td>\n",
       "      <td>0.934</td>\n",
       "      <td>0.859</td>\n",
       "      <td>0.002</td>\n",
       "      <td>&lt;0.01</td>\n",
       "    </tr>\n",
       "    <tr>\n",
       "      <th>TSL SSP split</th>\n",
       "      <td>0.664</td>\n",
       "      <td>0.922</td>\n",
       "      <td>0.653</td>\n",
       "      <td>0.011</td>\n",
       "      <td>&lt;0.01</td>\n",
       "    </tr>\n",
       "    <tr>\n",
       "      <th>EHRSQL</th>\n",
       "      <td>0.542</td>\n",
       "      <td>0.601</td>\n",
       "      <td>0.043</td>\n",
       "      <td>0.499</td>\n",
       "      <td>&lt;0.01</td>\n",
       "    </tr>\n",
       "    <tr>\n",
       "      <th rowspan=\"4\" valign=\"top\">Llama3-8B LoRA</th>\n",
       "      <th>PAUQ XSP</th>\n",
       "      <td>0.717</td>\n",
       "      <td>1.000</td>\n",
       "      <td>0.717</td>\n",
       "      <td>0.000</td>\n",
       "      <td>&lt;0.01</td>\n",
       "    </tr>\n",
       "    <tr>\n",
       "      <th>Template SSP split</th>\n",
       "      <td>0.673</td>\n",
       "      <td>0.958</td>\n",
       "      <td>0.673</td>\n",
       "      <td>0.000</td>\n",
       "      <td>&lt;0.01</td>\n",
       "    </tr>\n",
       "    <tr>\n",
       "      <th>TSL SSP split</th>\n",
       "      <td>0.296</td>\n",
       "      <td>1.000</td>\n",
       "      <td>0.296</td>\n",
       "      <td>0.000</td>\n",
       "      <td>&lt;0.01</td>\n",
       "    </tr>\n",
       "    <tr>\n",
       "      <th>EHRSQL</th>\n",
       "      <td>0.643</td>\n",
       "      <td>1.000</td>\n",
       "      <td>0.643</td>\n",
       "      <td>0.000</td>\n",
       "      <td>&lt;0.01</td>\n",
       "    </tr>\n",
       "    <tr>\n",
       "      <th rowspan=\"4\" valign=\"top\">Llama3-8B SFT</th>\n",
       "      <th>PAUQ XSP</th>\n",
       "      <td>0.731</td>\n",
       "      <td>1.000</td>\n",
       "      <td>0.731</td>\n",
       "      <td>0.000</td>\n",
       "      <td>&lt;0.01</td>\n",
       "    </tr>\n",
       "    <tr>\n",
       "      <th>Template SSP split</th>\n",
       "      <td>0.697</td>\n",
       "      <td>0.954</td>\n",
       "      <td>0.697</td>\n",
       "      <td>0.000</td>\n",
       "      <td>&lt;0.01</td>\n",
       "    </tr>\n",
       "    <tr>\n",
       "      <th>TSL SSP split</th>\n",
       "      <td>0.361</td>\n",
       "      <td>1.000</td>\n",
       "      <td>0.361</td>\n",
       "      <td>0.000</td>\n",
       "      <td>&lt;0.01</td>\n",
       "    </tr>\n",
       "    <tr>\n",
       "      <th>EHRSQL</th>\n",
       "      <td>0.640</td>\n",
       "      <td>1.000</td>\n",
       "      <td>0.640</td>\n",
       "      <td>0.000</td>\n",
       "      <td>&lt;0.01</td>\n",
       "    </tr>\n",
       "  </tbody>\n",
       "</table>\n",
       "</div>"
      ],
      "text/plain": [
       "                                      EX  Found errors  Traffic lost  \\\n",
       "T5-large       PAUQ XSP            0.634         0.601         0.111   \n",
       "               Template SSP split  0.690         0.698         0.644   \n",
       "               TSL SSP split       0.243         1.000         0.243   \n",
       "               EHRSQL              0.687         0.694         0.030   \n",
       "T5-3B          PAUQ XSP            0.709         0.523         0.262   \n",
       "               Template SSP split  0.738         0.885         0.718   \n",
       "               TSL SSP split       0.282         1.000         0.282   \n",
       "               EHRSQL              0.712         0.724         0.017   \n",
       "DIAL-SQL       PAUQ XSP            0.765         0.958         0.759   \n",
       "               Template SSP split  0.860         0.934         0.859   \n",
       "               TSL SSP split       0.664         0.922         0.653   \n",
       "               EHRSQL              0.542         0.601         0.043   \n",
       "Llama3-8B LoRA PAUQ XSP            0.717         1.000         0.717   \n",
       "               Template SSP split  0.673         0.958         0.673   \n",
       "               TSL SSP split       0.296         1.000         0.296   \n",
       "               EHRSQL              0.643         1.000         0.643   \n",
       "Llama3-8B SFT  PAUQ XSP            0.731         1.000         0.731   \n",
       "               Template SSP split  0.697         0.954         0.697   \n",
       "               TSL SSP split       0.361         1.000         0.361   \n",
       "               EHRSQL              0.640         1.000         0.640   \n",
       "\n",
       "                                   Result EX Result EX std  \n",
       "T5-large       PAUQ XSP                0.523         0.003  \n",
       "               Template SSP split      0.046         0.008  \n",
       "               TSL SSP split           0.000         <0.01  \n",
       "               EHRSQL                  0.657         0.005  \n",
       "T5-3B          PAUQ XSP                0.448         0.259  \n",
       "               Template SSP split      0.020         0.008  \n",
       "               TSL SSP split           0.000         <0.01  \n",
       "               EHRSQL                  0.695         0.004  \n",
       "DIAL-SQL       PAUQ XSP                0.006         <0.01  \n",
       "               Template SSP split      0.002         <0.01  \n",
       "               TSL SSP split           0.011         <0.01  \n",
       "               EHRSQL                  0.499         <0.01  \n",
       "Llama3-8B LoRA PAUQ XSP                0.000         <0.01  \n",
       "               Template SSP split      0.000         <0.01  \n",
       "               TSL SSP split           0.000         <0.01  \n",
       "               EHRSQL                  0.000         <0.01  \n",
       "Llama3-8B SFT  PAUQ XSP                0.000         <0.01  \n",
       "               Template SSP split      0.000         <0.01  \n",
       "               TSL SSP split           0.000         <0.01  \n",
       "               EHRSQL                  0.000         <0.01  "
      ]
     },
     "execution_count": 487,
     "metadata": {},
     "output_type": "execute_result"
    }
   ],
   "source": [
    "logreg_df = pd.concat({k: pd.DataFrame(v).T for k, v in metrics_result_dict.items()}, axis=0)\n",
    "print('Found errors: ', logreg_df['Found errors'].mean())\n",
    "print('Traffic lost: ', logreg_df['Traffic lost'].mean())\n",
    "print('Result EX: ', logreg_df['Result EX'].mean())\n",
    "\n",
    "logreg_df['Result EX std'] = logreg_df['Result EX std'].apply(lambda x: \"<0.01\" if x == 0 else x)\n",
    "\n",
    "logreg_df"
   ]
  },
  {
   "cell_type": "code",
   "execution_count": null,
   "id": "6292f619-e6dd-4d43-ae06-5a15bae28fe7",
   "metadata": {},
   "outputs": [],
   "source": []
  },
  {
   "cell_type": "code",
   "execution_count": 488,
   "id": "09111ff4-88fe-4087-af6b-7628f1e44dfd",
   "metadata": {},
   "outputs": [
    {
     "name": "stdout",
     "output_type": "stream",
     "text": [
      "T5-large PAUQ XSP\n"
     ]
    },
    {
     "name": "stderr",
     "output_type": "stream",
     "text": [
      "100%|███████████████████████████████████| 1076/1076 [00:00<00:00, 592811.13it/s]\n",
      "100%|███████████████████████████████████| 1076/1076 [00:00<00:00, 783111.42it/s]\n",
      "100%|███████████████████████████████████| 1076/1076 [00:00<00:00, 851844.30it/s]"
     ]
    },
    {
     "name": "stdout",
     "output_type": "stream",
     "text": [
      "(1076, 3) (1076, 3)\n",
      "T5-large Template SSP split\n"
     ]
    },
    {
     "name": "stderr",
     "output_type": "stream",
     "text": [
      "\n",
      "100%|█████████████████████████████████████| 986/986 [00:00<00:00, 576548.69it/s]\n",
      "100%|█████████████████████████████████████| 986/986 [00:00<00:00, 888226.75it/s]\n",
      "100%|█████████████████████████████████████| 986/986 [00:00<00:00, 736524.26it/s]\n"
     ]
    },
    {
     "name": "stdout",
     "output_type": "stream",
     "text": [
      "(986, 3) (986, 3)\n",
      "T5-large TSL SSP split\n"
     ]
    },
    {
     "name": "stderr",
     "output_type": "stream",
     "text": [
      "100%|█████████████████████████████████████| 986/986 [00:00<00:00, 839882.97it/s]\n",
      "100%|█████████████████████████████████████| 986/986 [00:00<00:00, 875811.89it/s]\n",
      "100%|█████████████████████████████████████| 986/986 [00:00<00:00, 907921.79it/s]\n"
     ]
    },
    {
     "name": "stdout",
     "output_type": "stream",
     "text": [
      "(986, 3) (986, 3)\n",
      "T5-large EHRSQL\n"
     ]
    },
    {
     "name": "stderr",
     "output_type": "stream",
     "text": [
      "100%|███████████████████████████████████| 1167/1167 [00:00<00:00, 527167.77it/s]\n",
      "100%|███████████████████████████████████| 1167/1167 [00:00<00:00, 599994.21it/s]\n",
      "100%|███████████████████████████████████| 1167/1167 [00:00<00:00, 617167.16it/s]\n"
     ]
    },
    {
     "name": "stdout",
     "output_type": "stream",
     "text": [
      "(1167, 3) (1167, 3)\n",
      "T5-3B PAUQ XSP\n"
     ]
    },
    {
     "name": "stderr",
     "output_type": "stream",
     "text": [
      "100%|██████████████████████████████████| 1076/1076 [00:00<00:00, 1066415.67it/s]\n",
      "100%|██████████████████████████████████| 1076/1076 [00:00<00:00, 1096736.60it/s]\n",
      "100%|███████████████████████████████████| 1076/1076 [00:00<00:00, 942186.03it/s]\n"
     ]
    },
    {
     "name": "stdout",
     "output_type": "stream",
     "text": [
      "(1076, 3) (1076, 3)\n",
      "T5-3B Template SSP split\n"
     ]
    },
    {
     "name": "stderr",
     "output_type": "stream",
     "text": [
      "100%|█████████████████████████████████████| 986/986 [00:00<00:00, 991033.73it/s]\n",
      "100%|█████████████████████████████████████| 986/986 [00:00<00:00, 750968.54it/s]\n",
      "100%|█████████████████████████████████████| 986/986 [00:00<00:00, 922297.89it/s]\n"
     ]
    },
    {
     "name": "stdout",
     "output_type": "stream",
     "text": [
      "(986, 3) (986, 3)\n",
      "T5-3B TSL SSP split\n"
     ]
    },
    {
     "name": "stderr",
     "output_type": "stream",
     "text": [
      "100%|█████████████████████████████████████| 986/986 [00:00<00:00, 798375.24it/s]\n",
      "100%|█████████████████████████████████████| 986/986 [00:00<00:00, 819576.64it/s]\n",
      "100%|█████████████████████████████████████| 986/986 [00:00<00:00, 663604.58it/s]\n"
     ]
    },
    {
     "name": "stdout",
     "output_type": "stream",
     "text": [
      "(986, 3) (986, 3)\n",
      "T5-3B EHRSQL\n"
     ]
    },
    {
     "name": "stderr",
     "output_type": "stream",
     "text": [
      "100%|███████████████████████████████████| 1167/1167 [00:00<00:00, 629469.23it/s]\n",
      "100%|███████████████████████████████████| 1167/1167 [00:00<00:00, 380855.34it/s]\n",
      "100%|███████████████████████████████████| 1167/1167 [00:00<00:00, 550962.72it/s]"
     ]
    },
    {
     "name": "stdout",
     "output_type": "stream",
     "text": [
      "(1167, 3) (1167, 3)\n"
     ]
    },
    {
     "name": "stderr",
     "output_type": "stream",
     "text": [
      "\n"
     ]
    },
    {
     "name": "stdout",
     "output_type": "stream",
     "text": [
      "DIAL-SQL PAUQ XSP\n"
     ]
    },
    {
     "name": "stderr",
     "output_type": "stream",
     "text": [
      "100%|███████████████████████████████████| 1076/1076 [00:00<00:00, 866398.75it/s]\n"
     ]
    },
    {
     "name": "stdout",
     "output_type": "stream",
     "text": [
      "(1076, 1) (1076, 1)\n",
      "DIAL-SQL Template SSP split\n"
     ]
    },
    {
     "name": "stderr",
     "output_type": "stream",
     "text": [
      "100%|█████████████████████████████████████| 986/986 [00:00<00:00, 952679.97it/s]\n"
     ]
    },
    {
     "name": "stdout",
     "output_type": "stream",
     "text": [
      "(986, 1) (986, 1)\n",
      "DIAL-SQL TSL SSP split\n"
     ]
    },
    {
     "name": "stderr",
     "output_type": "stream",
     "text": [
      "100%|█████████████████████████████████████| 986/986 [00:00<00:00, 738497.10it/s]\n"
     ]
    },
    {
     "name": "stdout",
     "output_type": "stream",
     "text": [
      "(986, 1) (986, 1)\n",
      "DIAL-SQL EHRSQL\n"
     ]
    },
    {
     "name": "stderr",
     "output_type": "stream",
     "text": [
      "100%|███████████████████████████████████| 1167/1167 [00:00<00:00, 429364.28it/s]"
     ]
    },
    {
     "name": "stdout",
     "output_type": "stream",
     "text": [
      "(1167, 1) (1167, 1)\n"
     ]
    },
    {
     "name": "stderr",
     "output_type": "stream",
     "text": [
      "\n"
     ]
    },
    {
     "name": "stdout",
     "output_type": "stream",
     "text": [
      "Llama3-8B LoRA PAUQ XSP\n"
     ]
    },
    {
     "name": "stderr",
     "output_type": "stream",
     "text": [
      "100%|███████████████████████████████████| 1076/1076 [00:00<00:00, 837926.31it/s]\n",
      "100%|███████████████████████████████████| 1076/1076 [00:00<00:00, 782568.25it/s]\n",
      "100%|███████████████████████████████████| 1076/1076 [00:00<00:00, 837459.84it/s]\n"
     ]
    },
    {
     "name": "stdout",
     "output_type": "stream",
     "text": [
      "(1076, 3) (1076, 3)\n",
      "Llama3-8B LoRA Template SSP split\n"
     ]
    },
    {
     "name": "stderr",
     "output_type": "stream",
     "text": [
      "100%|█████████████████████████████████████| 986/986 [00:00<00:00, 921681.24it/s]\n",
      "100%|████████████████████████████████████| 986/986 [00:00<00:00, 1053383.53it/s]\n",
      "100%|█████████████████████████████████████| 986/986 [00:00<00:00, 992937.27it/s]\n"
     ]
    },
    {
     "name": "stdout",
     "output_type": "stream",
     "text": [
      "(986, 3) (986, 3)\n",
      "Llama3-8B LoRA TSL SSP split\n"
     ]
    },
    {
     "name": "stderr",
     "output_type": "stream",
     "text": [
      "100%|█████████████████████████████████████| 986/986 [00:00<00:00, 847803.15it/s]\n",
      "100%|█████████████████████████████████████| 986/986 [00:00<00:00, 609698.33it/s]\n",
      "100%|█████████████████████████████████████| 986/986 [00:00<00:00, 802870.07it/s]\n"
     ]
    },
    {
     "name": "stdout",
     "output_type": "stream",
     "text": [
      "(986, 3) (986, 3)\n",
      "Llama3-8B LoRA EHRSQL\n"
     ]
    },
    {
     "name": "stderr",
     "output_type": "stream",
     "text": [
      "100%|███████████████████████████████████| 1167/1167 [00:00<00:00, 577075.31it/s]\n",
      "100%|███████████████████████████████████| 1167/1167 [00:00<00:00, 605636.32it/s]\n",
      "100%|███████████████████████████████████| 1167/1167 [00:00<00:00, 409055.05it/s]\n"
     ]
    },
    {
     "name": "stdout",
     "output_type": "stream",
     "text": [
      "(1167, 3) (1167, 3)\n",
      "Llama3-8B SFT PAUQ XSP\n"
     ]
    },
    {
     "name": "stderr",
     "output_type": "stream",
     "text": [
      "100%|███████████████████████████████████| 1076/1076 [00:00<00:00, 861437.51it/s]\n",
      "100%|███████████████████████████████████| 1076/1076 [00:00<00:00, 647035.28it/s]\n",
      "100%|███████████████████████████████████| 1076/1076 [00:00<00:00, 918037.25it/s]\n"
     ]
    },
    {
     "name": "stdout",
     "output_type": "stream",
     "text": [
      "(1076, 3) (1076, 3)\n",
      "Llama3-8B SFT Template SSP split\n"
     ]
    },
    {
     "name": "stderr",
     "output_type": "stream",
     "text": [
      "100%|█████████████████████████████████████| 986/986 [00:00<00:00, 817147.55it/s]\n",
      "100%|█████████████████████████████████████| 986/986 [00:00<00:00, 927468.88it/s]\n",
      "100%|█████████████████████████████████████| 986/986 [00:00<00:00, 879537.16it/s]\n"
     ]
    },
    {
     "name": "stdout",
     "output_type": "stream",
     "text": [
      "(986, 3) (986, 3)\n",
      "Llama3-8B SFT TSL SSP split\n"
     ]
    },
    {
     "name": "stderr",
     "output_type": "stream",
     "text": [
      "100%|█████████████████████████████████████| 986/986 [00:00<00:00, 736262.02it/s]\n",
      "100%|█████████████████████████████████████| 986/986 [00:00<00:00, 723510.10it/s]\n",
      "100%|█████████████████████████████████████| 986/986 [00:00<00:00, 731443.89it/s]"
     ]
    },
    {
     "name": "stdout",
     "output_type": "stream",
     "text": [
      "(986, 3) (986, 3)\n"
     ]
    },
    {
     "name": "stderr",
     "output_type": "stream",
     "text": [
      "\n"
     ]
    },
    {
     "name": "stdout",
     "output_type": "stream",
     "text": [
      "Llama3-8B SFT EHRSQL\n"
     ]
    },
    {
     "name": "stderr",
     "output_type": "stream",
     "text": [
      "100%|███████████████████████████████████| 1167/1167 [00:00<00:00, 416503.81it/s]\n",
      "100%|███████████████████████████████████| 1167/1167 [00:00<00:00, 482764.85it/s]\n",
      "100%|███████████████████████████████████| 1167/1167 [00:00<00:00, 566194.65it/s]"
     ]
    },
    {
     "name": "stdout",
     "output_type": "stream",
     "text": [
      "(1167, 3) (1167, 3)\n"
     ]
    },
    {
     "name": "stderr",
     "output_type": "stream",
     "text": [
      "\n"
     ]
    }
   ],
   "source": [
    "for model_name in model_name_list:\n",
    "    off_model_name = data_constants.MODEL_NAMES[model_name]\n",
    "    metrics_result_dict[off_model_name] = dict()\n",
    "    for split_name in splits:\n",
    "        off_split_name = data_constants.SPLITS_NAMES[split_name]\n",
    "        print(off_model_name, off_split_name)\n",
    "        scores, targets = support_functions.make_numpy_arrays(split_name, model_name, data_constants.SEED_LIST,\n",
    "                                                              data_constants.SPLITS_PREDICTIONS_PATH, \n",
    "                                                              data_constants.GOLD_TEST_SPLIT_PATH)\n",
    "        if scores is not None:\n",
    "            dev_sc, dev_tr, test_sc, test_tr = support_functions.create_split(scores, targets)\n",
    "            predicted_targets, _ = score_by_thresh(dev_sc, dev_tr, test_sc, test_tr)\n",
    "\n",
    "            lr_penalized_results = evaluate_results_from_confidence_estimate(predicted_targets, test_tr)\n",
    "            \n",
    "            metrics_result_dict[off_model_name][off_split_name] = lr_penalized_results"
   ]
  },
  {
   "cell_type": "code",
   "execution_count": 489,
   "id": "b4e3ab7f-4ff4-4059-adc0-d3ea87e3852b",
   "metadata": {},
   "outputs": [
    {
     "name": "stdout",
     "output_type": "stream",
     "text": [
      "Found errors:  0.8724000000000001\n",
      "Traffic lost:  0.4711\n",
      "Result EX:  0.14320000000000002\n"
     ]
    },
    {
     "data": {
      "text/html": [
       "<div>\n",
       "<style scoped>\n",
       "    .dataframe tbody tr th:only-of-type {\n",
       "        vertical-align: middle;\n",
       "    }\n",
       "\n",
       "    .dataframe tbody tr th {\n",
       "        vertical-align: top;\n",
       "    }\n",
       "\n",
       "    .dataframe thead th {\n",
       "        text-align: right;\n",
       "    }\n",
       "</style>\n",
       "<table border=\"1\" class=\"dataframe\">\n",
       "  <thead>\n",
       "    <tr style=\"text-align: right;\">\n",
       "      <th></th>\n",
       "      <th></th>\n",
       "      <th>EX</th>\n",
       "      <th>Found errors</th>\n",
       "      <th>Traffic lost</th>\n",
       "      <th>Result EX</th>\n",
       "      <th>Result EX std</th>\n",
       "    </tr>\n",
       "  </thead>\n",
       "  <tbody>\n",
       "    <tr>\n",
       "      <th rowspan=\"4\" valign=\"top\">T5-large</th>\n",
       "      <th>PAUQ XSP</th>\n",
       "      <td>0.634</td>\n",
       "      <td>0.830</td>\n",
       "      <td>0.203</td>\n",
       "      <td>0.431</td>\n",
       "      <td>0.026</td>\n",
       "    </tr>\n",
       "    <tr>\n",
       "      <th>Template SSP split</th>\n",
       "      <td>0.690</td>\n",
       "      <td>1.000</td>\n",
       "      <td>0.690</td>\n",
       "      <td>0.000</td>\n",
       "      <td>0.000</td>\n",
       "    </tr>\n",
       "    <tr>\n",
       "      <th>TSL SSP split</th>\n",
       "      <td>0.243</td>\n",
       "      <td>1.000</td>\n",
       "      <td>0.243</td>\n",
       "      <td>0.000</td>\n",
       "      <td>0.000</td>\n",
       "    </tr>\n",
       "    <tr>\n",
       "      <th>EHRSQL</th>\n",
       "      <td>0.687</td>\n",
       "      <td>0.591</td>\n",
       "      <td>0.237</td>\n",
       "      <td>0.450</td>\n",
       "      <td>0.317</td>\n",
       "    </tr>\n",
       "    <tr>\n",
       "      <th rowspan=\"4\" valign=\"top\">T5-3B</th>\n",
       "      <th>PAUQ XSP</th>\n",
       "      <td>0.709</td>\n",
       "      <td>0.903</td>\n",
       "      <td>0.338</td>\n",
       "      <td>0.371</td>\n",
       "      <td>0.031</td>\n",
       "    </tr>\n",
       "    <tr>\n",
       "      <th>Template SSP split</th>\n",
       "      <td>0.738</td>\n",
       "      <td>1.000</td>\n",
       "      <td>0.738</td>\n",
       "      <td>0.000</td>\n",
       "      <td>0.000</td>\n",
       "    </tr>\n",
       "    <tr>\n",
       "      <th>TSL SSP split</th>\n",
       "      <td>0.282</td>\n",
       "      <td>1.000</td>\n",
       "      <td>0.282</td>\n",
       "      <td>0.000</td>\n",
       "      <td>0.000</td>\n",
       "    </tr>\n",
       "    <tr>\n",
       "      <th>EHRSQL</th>\n",
       "      <td>0.712</td>\n",
       "      <td>0.699</td>\n",
       "      <td>0.711</td>\n",
       "      <td>0.001</td>\n",
       "      <td>0.002</td>\n",
       "    </tr>\n",
       "    <tr>\n",
       "      <th rowspan=\"4\" valign=\"top\">DIAL-SQL</th>\n",
       "      <th>PAUQ XSP</th>\n",
       "      <td>0.765</td>\n",
       "      <td>0.874</td>\n",
       "      <td>0.451</td>\n",
       "      <td>0.314</td>\n",
       "      <td>0.000</td>\n",
       "    </tr>\n",
       "    <tr>\n",
       "      <th>Template SSP split</th>\n",
       "      <td>0.860</td>\n",
       "      <td>1.000</td>\n",
       "      <td>0.860</td>\n",
       "      <td>0.000</td>\n",
       "      <td>0.000</td>\n",
       "    </tr>\n",
       "    <tr>\n",
       "      <th>TSL SSP split</th>\n",
       "      <td>0.664</td>\n",
       "      <td>1.000</td>\n",
       "      <td>0.664</td>\n",
       "      <td>0.000</td>\n",
       "      <td>0.000</td>\n",
       "    </tr>\n",
       "    <tr>\n",
       "      <th>EHRSQL</th>\n",
       "      <td>0.542</td>\n",
       "      <td>0.779</td>\n",
       "      <td>0.099</td>\n",
       "      <td>0.444</td>\n",
       "      <td>0.000</td>\n",
       "    </tr>\n",
       "    <tr>\n",
       "      <th rowspan=\"4\" valign=\"top\">Llama3-8B LoRA</th>\n",
       "      <th>PAUQ XSP</th>\n",
       "      <td>0.717</td>\n",
       "      <td>0.929</td>\n",
       "      <td>0.615</td>\n",
       "      <td>0.103</td>\n",
       "      <td>0.029</td>\n",
       "    </tr>\n",
       "    <tr>\n",
       "      <th>Template SSP split</th>\n",
       "      <td>0.673</td>\n",
       "      <td>0.932</td>\n",
       "      <td>0.641</td>\n",
       "      <td>0.032</td>\n",
       "      <td>0.045</td>\n",
       "    </tr>\n",
       "    <tr>\n",
       "      <th>TSL SSP split</th>\n",
       "      <td>0.296</td>\n",
       "      <td>1.000</td>\n",
       "      <td>0.296</td>\n",
       "      <td>0.000</td>\n",
       "      <td>0.000</td>\n",
       "    </tr>\n",
       "    <tr>\n",
       "      <th>EHRSQL</th>\n",
       "      <td>0.643</td>\n",
       "      <td>0.699</td>\n",
       "      <td>0.585</td>\n",
       "      <td>0.057</td>\n",
       "      <td>0.026</td>\n",
       "    </tr>\n",
       "    <tr>\n",
       "      <th rowspan=\"4\" valign=\"top\">Llama3-8B SFT</th>\n",
       "      <th>PAUQ XSP</th>\n",
       "      <td>0.731</td>\n",
       "      <td>0.769</td>\n",
       "      <td>0.460</td>\n",
       "      <td>0.271</td>\n",
       "      <td>0.055</td>\n",
       "    </tr>\n",
       "    <tr>\n",
       "      <th>Template SSP split</th>\n",
       "      <td>0.697</td>\n",
       "      <td>0.901</td>\n",
       "      <td>0.568</td>\n",
       "      <td>0.130</td>\n",
       "      <td>0.183</td>\n",
       "    </tr>\n",
       "    <tr>\n",
       "      <th>TSL SSP split</th>\n",
       "      <td>0.361</td>\n",
       "      <td>0.890</td>\n",
       "      <td>0.314</td>\n",
       "      <td>0.047</td>\n",
       "      <td>0.066</td>\n",
       "    </tr>\n",
       "    <tr>\n",
       "      <th>EHRSQL</th>\n",
       "      <td>0.640</td>\n",
       "      <td>0.652</td>\n",
       "      <td>0.427</td>\n",
       "      <td>0.213</td>\n",
       "      <td>0.251</td>\n",
       "    </tr>\n",
       "  </tbody>\n",
       "</table>\n",
       "</div>"
      ],
      "text/plain": [
       "                                      EX  Found errors  Traffic lost  \\\n",
       "T5-large       PAUQ XSP            0.634         0.830         0.203   \n",
       "               Template SSP split  0.690         1.000         0.690   \n",
       "               TSL SSP split       0.243         1.000         0.243   \n",
       "               EHRSQL              0.687         0.591         0.237   \n",
       "T5-3B          PAUQ XSP            0.709         0.903         0.338   \n",
       "               Template SSP split  0.738         1.000         0.738   \n",
       "               TSL SSP split       0.282         1.000         0.282   \n",
       "               EHRSQL              0.712         0.699         0.711   \n",
       "DIAL-SQL       PAUQ XSP            0.765         0.874         0.451   \n",
       "               Template SSP split  0.860         1.000         0.860   \n",
       "               TSL SSP split       0.664         1.000         0.664   \n",
       "               EHRSQL              0.542         0.779         0.099   \n",
       "Llama3-8B LoRA PAUQ XSP            0.717         0.929         0.615   \n",
       "               Template SSP split  0.673         0.932         0.641   \n",
       "               TSL SSP split       0.296         1.000         0.296   \n",
       "               EHRSQL              0.643         0.699         0.585   \n",
       "Llama3-8B SFT  PAUQ XSP            0.731         0.769         0.460   \n",
       "               Template SSP split  0.697         0.901         0.568   \n",
       "               TSL SSP split       0.361         0.890         0.314   \n",
       "               EHRSQL              0.640         0.652         0.427   \n",
       "\n",
       "                                   Result EX  Result EX std  \n",
       "T5-large       PAUQ XSP                0.431          0.026  \n",
       "               Template SSP split      0.000          0.000  \n",
       "               TSL SSP split           0.000          0.000  \n",
       "               EHRSQL                  0.450          0.317  \n",
       "T5-3B          PAUQ XSP                0.371          0.031  \n",
       "               Template SSP split      0.000          0.000  \n",
       "               TSL SSP split           0.000          0.000  \n",
       "               EHRSQL                  0.001          0.002  \n",
       "DIAL-SQL       PAUQ XSP                0.314          0.000  \n",
       "               Template SSP split      0.000          0.000  \n",
       "               TSL SSP split           0.000          0.000  \n",
       "               EHRSQL                  0.444          0.000  \n",
       "Llama3-8B LoRA PAUQ XSP                0.103          0.029  \n",
       "               Template SSP split      0.032          0.045  \n",
       "               TSL SSP split           0.000          0.000  \n",
       "               EHRSQL                  0.057          0.026  \n",
       "Llama3-8B SFT  PAUQ XSP                0.271          0.055  \n",
       "               Template SSP split      0.130          0.183  \n",
       "               TSL SSP split           0.047          0.066  \n",
       "               EHRSQL                  0.213          0.251  "
      ]
     },
     "execution_count": 489,
     "metadata": {},
     "output_type": "execute_result"
    }
   ],
   "source": [
    "thresh_df = pd.concat({k: pd.DataFrame(v).T for k, v in metrics_result_dict.items()}, axis=0)\n",
    "\n",
    "print('Found errors: ', thresh_df['Found errors'].mean())\n",
    "print('Traffic lost: ', thresh_df['Traffic lost'].mean())\n",
    "print('Result EX: ', thresh_df['Result EX'].mean())\n",
    "\n",
    "df['Result EX std'] = thresh_df['Result EX std'].apply(lambda x: \"<0.01\" if x == 0 else x)\n",
    "\n",
    "thresh_df"
   ]
  },
  {
   "cell_type": "markdown",
   "id": "13f3c322-b4b7-4b51-a40b-c91af4853174",
   "metadata": {},
   "source": [
    "### Overall results"
   ]
  },
  {
   "cell_type": "code",
   "execution_count": 490,
   "id": "b82ebd12-eeec-48f1-9705-22f7f5825e8b",
   "metadata": {},
   "outputs": [
    {
     "data": {
      "text/html": [
       "<div>\n",
       "<style scoped>\n",
       "    .dataframe tbody tr th:only-of-type {\n",
       "        vertical-align: middle;\n",
       "    }\n",
       "\n",
       "    .dataframe tbody tr th {\n",
       "        vertical-align: top;\n",
       "    }\n",
       "\n",
       "    .dataframe thead th {\n",
       "        text-align: right;\n",
       "    }\n",
       "</style>\n",
       "<table border=\"1\" class=\"dataframe\">\n",
       "  <thead>\n",
       "    <tr style=\"text-align: right;\">\n",
       "      <th></th>\n",
       "      <th>Found errors</th>\n",
       "      <th>Traffic lost</th>\n",
       "      <th>Result EX</th>\n",
       "    </tr>\n",
       "  </thead>\n",
       "  <tbody>\n",
       "    <tr>\n",
       "      <th>Gaussian Mixture</th>\n",
       "      <td>0.798</td>\n",
       "      <td>0.364</td>\n",
       "      <td>0.251</td>\n",
       "    </tr>\n",
       "    <tr>\n",
       "      <th>Logistic Regression</th>\n",
       "      <td>0.873</td>\n",
       "      <td>0.469</td>\n",
       "      <td>0.145</td>\n",
       "    </tr>\n",
       "    <tr>\n",
       "      <th>Threshold</th>\n",
       "      <td>0.872</td>\n",
       "      <td>0.471</td>\n",
       "      <td>0.143</td>\n",
       "    </tr>\n",
       "  </tbody>\n",
       "</table>\n",
       "</div>"
      ],
      "text/plain": [
       "                     Found errors  Traffic lost  Result EX\n",
       "Gaussian Mixture            0.798         0.364      0.251\n",
       "Logistic Regression         0.873         0.469      0.145\n",
       "Threshold                   0.872         0.471      0.143"
      ]
     },
     "execution_count": 490,
     "metadata": {},
     "output_type": "execute_result"
    }
   ],
   "source": [
    "all_methods_metrics = {\"Gaussian Mixture\": {\"Found errors\": round(gmm_df['Found errors'].mean(), 3),\n",
    "                                           \"Traffic lost\": round(gmm_df['Traffic lost'].mean(),3),\n",
    "                                           \"Result EX\": round(gmm_df['Result EX'].mean(), 3)},\n",
    "                      \"Logistic Regression\": {\"Found errors\": round(logreg_df['Found errors'].mean(), 3),\n",
    "                                           \"Traffic lost\": round(logreg_df['Traffic lost'].mean(),3),\n",
    "                                           \"Result EX\": round(logreg_df['Result EX'].mean(), 3)},\n",
    "                      \"Threshold\": {\"Found errors\": round(thresh_df['Found errors'].mean(), 3),\n",
    "                                    \"Traffic lost\": round(thresh_df['Traffic lost'].mean(),3),\n",
    "                                    \"Result EX\": round(thresh_df['Result EX'].mean(), 3)}\n",
    "                      }\n",
    "\n",
    "\n",
    "df = pd.DataFrame.from_dict(all_methods_metrics).T\n",
    "df"
   ]
  },
  {
   "cell_type": "markdown",
   "id": "af5e22fd-e8e0-4329-9dc0-26130e500eb7",
   "metadata": {
    "pycharm": {
     "name": "#%% md\n"
    }
   },
   "source": []
  }
 ],
 "metadata": {
  "kernelspec": {
   "display_name": "Python 3 (ipykernel)",
   "language": "python",
   "name": "python3"
  },
  "language_info": {
   "codemirror_mode": {
    "name": "ipython",
    "version": 3
   },
   "file_extension": ".py",
   "mimetype": "text/x-python",
   "name": "python",
   "nbconvert_exporter": "python",
   "pygments_lexer": "ipython3",
   "version": "3.9.7"
  }
 },
 "nbformat": 4,
 "nbformat_minor": 5
}